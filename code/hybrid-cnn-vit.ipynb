{
 "cells": [
  {
   "cell_type": "markdown",
   "id": "2f31b708",
   "metadata": {},
   "source": [
    "# Notebook to train the Hybrid ResNet-ViT"
   ]
  },
  {
   "cell_type": "code",
   "execution_count": null,
   "id": "b9775ced",
   "metadata": {},
   "outputs": [
    {
     "name": "stderr",
     "output_type": "stream",
     "text": [
      "/home/diogommiranda/tese/ml/lib/python3.10/site-packages/tqdm/auto.py:21: TqdmWarning: IProgress not found. Please update jupyter and ipywidgets. See https://ipywidgets.readthedocs.io/en/stable/user_install.html\n",
      "  from .autonotebook import tqdm as notebook_tqdm\n",
      "2025-05-24 20:42:45.715297: I tensorflow/core/platform/cpu_feature_guard.cc:210] This TensorFlow binary is optimized to use available CPU instructions in performance-critical operations.\n",
      "To enable the following instructions: AVX2 FMA, in other operations, rebuild TensorFlow with the appropriate compiler flags.\n",
      "2025-05-24 20:42:46.453324: W tensorflow/compiler/tf2tensorrt/utils/py_utils.cc:38] TF-TRT Warning: Could not find TensorRT\n"
     ]
    },
    {
     "name": "stdout",
     "output_type": "stream",
     "text": [
      "Using device: cuda\n",
      "Automatic Mixed Precision (AMP) enabled: True\n"
     ]
    }
   ],
   "source": [
    "import torch\n",
    "import torch.nn as nn\n",
    "import torch.optim as optim\n",
    "from torch.amp import GradScaler\n",
    "import os\n",
    "import matplotlib.pyplot as plt\n",
    "import random\n",
    "import numpy as np\n",
    "import pandas as pd\n",
    "import time\n",
    "from pathlib import Path\n",
    "from sklearn.metrics import balanced_accuracy_score, f1_score, matthews_corrcoef, roc_auc_score, accuracy_score, recall_score\n",
    "from data_utils_torch import get_paths_and_labels, calculate_min_max, create_dataloader, extract_subject_id, clean_zone_identifier_files\n",
    "from plotting_utils_torch import view_image, view_random_image, plot_loss_curves, make_confusion_matrix, view_image_data\n",
    "from sklearn.model_selection import StratifiedGroupKFold\n",
    "import gc\n",
    "from tqdm.auto import tqdm\n",
    "from monai.networks.nets import ResNet\n",
    "from models3D import ResnetFeatureExtractor, ResNetViT\n",
    "import json\n",
    "\n",
    "device = torch.device(\"cuda\" if torch.cuda.is_available() else \"cpu\")\n",
    "print(f\"Using device: {device}\")\n",
    "\n",
    "# Set random seed for reproducibility    \n",
    "seed = 10\n",
    "os.environ['PYTHONHASHSEED'] = str(seed)\n",
    "random.seed(seed)\n",
    "np.random.seed(seed)\n",
    "torch.manual_seed(seed)\n",
    "if torch.cuda.is_available():\n",
    "    torch.cuda.manual_seed(seed)\n",
    "\n",
    "# Set mixed precision     \n",
    "USE_AMP = True if device.type == 'cuda' else False\n",
    "scaler = GradScaler(enabled=USE_AMP)\n",
    "print(f\"Automatic Mixed Precision (AMP) enabled: {USE_AMP}\")\n",
    "\n",
    "#clean_zone_identifier_files(\"/home/diogommiranda/tese/\")"
   ]
  },
  {
   "cell_type": "code",
   "execution_count": null,
   "id": "48b1f09b",
   "metadata": {},
   "outputs": [
    {
     "name": "stdout",
     "output_type": "stream",
     "text": [
      "Class map: {'smci': 0, 'pmci': 1}\n",
      "Scanning /home/diogommiranda/tese/datasets/mni_reg_CV/smci_pmci/train...\n",
      "    Found 575 files for class 'smci'\n",
      "    Found 314 files for class 'pmci'\n",
      "Calculated Min: -0.35769128799438477, Max: 2.7912356853485107\n",
      "Calculating 1%-99% percentile bounds...\n",
      "Processed 50/889 files\n",
      "Processed 100/889 files\n",
      "Processed 150/889 files\n",
      "Processed 200/889 files\n",
      "Processed 250/889 files\n",
      "Processed 300/889 files\n",
      "Processed 350/889 files\n",
      "Processed 400/889 files\n",
      "Processed 450/889 files\n",
      "Processed 500/889 files\n",
      "Processed 550/889 files\n",
      "Processed 600/889 files\n",
      "Processed 650/889 files\n",
      "Processed 700/889 files\n",
      "Processed 750/889 files\n",
      "Processed 800/889 files\n",
      "Processed 850/889 files\n"
     ]
    },
    {
     "ename": "KeyboardInterrupt",
     "evalue": "",
     "output_type": "error",
     "traceback": [
      "\u001b[0;31m---------------------------------------------------------------------------\u001b[0m",
      "\u001b[0;31mKeyboardInterrupt\u001b[0m                         Traceback (most recent call last)",
      "Cell \u001b[0;32mIn[2], line 16\u001b[0m\n\u001b[1;32m     13\u001b[0m \u001b[38;5;66;03m# Calculate minmax values for train set\u001b[39;00m\n\u001b[1;32m     14\u001b[0m minmax_min, minmax_max \u001b[38;5;241m=\u001b[39m calculate_min_max(train_paths)\n\u001b[0;32m---> 16\u001b[0m minmax_min, minmax_max \u001b[38;5;241m=\u001b[39m \u001b[43mcalculate_conservative_minmax\u001b[49m\u001b[43m(\u001b[49m\u001b[43mtrain_paths\u001b[49m\u001b[43m)\u001b[49m\n\u001b[1;32m     18\u001b[0m \u001b[38;5;66;03m# Create train dataset\u001b[39;00m\n\u001b[1;32m     19\u001b[0m train_data \u001b[38;5;241m=\u001b[39m create_dataloader(\n\u001b[1;32m     20\u001b[0m     paths\u001b[38;5;241m=\u001b[39mtrain_paths,\n\u001b[1;32m     21\u001b[0m     labels\u001b[38;5;241m=\u001b[39mtrain_labels,\n\u001b[0;32m   (...)\u001b[0m\n\u001b[1;32m     28\u001b[0m     mask_path\u001b[38;5;241m=\u001b[39mINPUT_ROI_MASK_PATH\n\u001b[1;32m     29\u001b[0m     )\n",
      "File \u001b[0;32m~/tese/code/data_utils_torch.py:126\u001b[0m, in \u001b[0;36mcalculate_conservative_minmax\u001b[0;34m(paths, lower_percentile, upper_percentile, progress_interval)\u001b[0m\n\u001b[1;32m    123\u001b[0m \u001b[38;5;28;01mif\u001b[39;00m \u001b[38;5;129;01mnot\u001b[39;00m all_values:\n\u001b[1;32m    124\u001b[0m     \u001b[38;5;28;01mraise\u001b[39;00m \u001b[38;5;167;01mValueError\u001b[39;00m(\u001b[38;5;124m\"\u001b[39m\u001b[38;5;124mNo valid voxel values found in any file\u001b[39m\u001b[38;5;124m\"\u001b[39m)\n\u001b[0;32m--> 126\u001b[0m all_values \u001b[38;5;241m=\u001b[39m \u001b[43mnp\u001b[49m\u001b[38;5;241;43m.\u001b[39;49m\u001b[43marray\u001b[49m\u001b[43m(\u001b[49m\u001b[43mall_values\u001b[49m\u001b[43m)\u001b[49m\n\u001b[1;32m    128\u001b[0m \u001b[38;5;66;03m# Calculate percentile bounds\u001b[39;00m\n\u001b[1;32m    129\u001b[0m conservative_min \u001b[38;5;241m=\u001b[39m np\u001b[38;5;241m.\u001b[39mpercentile(all_values, lower_percentile)\n",
      "\u001b[0;31mKeyboardInterrupt\u001b[0m: "
     ]
    }
   ],
   "source": [
    "NORMALIZATION = \"mni_reg_CV\" # Name of the directory with the datasets\n",
    "DATASET = \"smci_pmci\" # Choose dataset: \"smci_pmci\" or \"nc_ad\"\n",
    "DATA_DIR = Path(\"/home/diogommiranda/tese/datasets/\") / NORMALIZATION / DATASET\n",
    "VOLUME_SHAPE = (91, 109, 91) # Expected volume shape of the PET images\n",
    "BATCH_SIZE = 4 # Set batch size\n",
    "INPUT_ROI_MASK_PATH = None # Set to None to not apply mask to the images\n",
    "\n",
    "# Get train paths and labels to calculate minmax values\n",
    "train_paths, train_labels, class_map = get_paths_and_labels(DATA_DIR, 'train')\n",
    "train_paths = np.array(train_paths)\n",
    "train_labels = np.array(train_labels)\n",
    "\n",
    "# Calculate minmax values for train set\n",
    "minmax_min, minmax_max = calculate_min_max(train_paths)\n",
    "\n",
    "# Create train dataset\n",
    "train_data = create_dataloader(\n",
    "    paths=train_paths,\n",
    "    labels=train_labels,\n",
    "    batch_size=BATCH_SIZE,\n",
    "    volume_shape=VOLUME_SHAPE,\n",
    "    is_training=True,\n",
    "    seed=seed,\n",
    "    min_val=minmax_min, \n",
    "    max_val=minmax_max, \n",
    "    mask_path=INPUT_ROI_MASK_PATH\n",
    "    )\n",
    "\n",
    "# Create test set with the minmax values from train\n",
    "test_paths, test_labels, _ = get_paths_and_labels(DATA_DIR, 'test', class_map=class_map)\n",
    "test_data = create_dataloader(\n",
    "    paths=test_paths,\n",
    "    labels=test_labels,\n",
    "    batch_size=BATCH_SIZE,\n",
    "    volume_shape=VOLUME_SHAPE,\n",
    "    is_training=False,\n",
    "    seed=None,\n",
    "    min_val=minmax_min, \n",
    "    max_val=minmax_max,\n",
    "    mask_path=INPUT_ROI_MASK_PATH\n",
    "    )"
   ]
  },
  {
   "cell_type": "code",
   "execution_count": null,
   "id": "511faaa4",
   "metadata": {},
   "outputs": [
    {
     "name": "stdout",
     "output_type": "stream",
     "text": [
      "torch.Size([1, 91, 109, 91])\n",
      "Min: 0.1096235066652298, Max: 0.7591672539710999\n"
     ]
    },
    {
     "data": {
      "image/png": "[encoded data removed]",
      "text/plain": [
       "<Figure size 1500x500 with 3 Axes>"
      ]
     },
     "metadata": {},
     "output_type": "display_data"
    }
   ],
   "source": [
    "# Verify data with a test sample\n",
    "i = 5\n",
    "for data, label in test_data:\n",
    "    view_image_data(data[i])\n",
    "    #data[i] = torch.flip(data[i], dims=[3])\n",
    "    #view_image_data(data[i])\n",
    "    print(data[i].shape)\n",
    "    min_val = data[i].min().item()\n",
    "    max_val = data[i].max().item()\n",
    "    print(f\"Min: {min_val}, Max: {max_val}\")\n",
    "    break"
   ]
  },
  {
   "cell_type": "code",
   "execution_count": null,
   "id": "170c45ce",
   "metadata": {},
   "outputs": [
    {
     "name": "stdout",
     "output_type": "stream",
     "text": [
      "Not using pretrained weights.\n"
     ]
    }
   ],
   "source": [
    "# Setting configurations\n",
    "\n",
    "resnet_config = {\n",
    "    'block': 'basic',\n",
    "    'layers': [3, 4, 6, 3],\n",
    "    'block_inplanes': [64, 128, 256, 512],\n",
    "    'spatial_dims': 3,\n",
    "    'n_input_channels': 1,\n",
    "    'conv1_t_stride': 2,\n",
    "    'num_classes': 1, \n",
    "    'shortcut_type': 'B',\n",
    "    'bias_downsample': True\n",
    "}\n",
    "\n",
    "vit_config = {\n",
    "    'in_channels': 256,\n",
    "    'img_size': (6,7,6),\n",
    "    'patch_size': (1,1,1),  \n",
    "    'num_heads': 3,\n",
    "    'hidden_size': 192,\n",
    "    'mlp_dim': 768,\n",
    "    'num_layers': 2,\n",
    "    'proj_type': 'perceptron',\n",
    "    'pos_embed_type': 'sincos',\n",
    "    'classification': True,\n",
    "    'num_classes': 1,\n",
    "    'dropout_rate': 0.1,\n",
    "    'spatial_dims': 3,\n",
    "    'post_activation': 'none',\n",
    "    'qkv_bias': False,\n",
    "    'save_attn': False\n",
    "}\n",
    "\n",
    "pure_vit_config = {\n",
    "    'in_channels': 1,\n",
    "    'img_size': (91,109,91),\n",
    "    'patch_size': (16,16,16),\n",
    "    'num_heads': 5,\n",
    "    'hidden_size': 330,\n",
    "    'mlp_dim': 1200,\n",
    "    'num_layers': 6,\n",
    "    'proj_type': 'perceptron',\n",
    "    'pos_embed_type': 'sincos',\n",
    "    'classification': True,\n",
    "    'num_classes': 1,\n",
    "    'dropout_rate': 0.0,\n",
    "    'spatial_dims': 3,\n",
    "    'post_activation': 'none',\n",
    "    'qkv_bias': False,\n",
    "    'save_attn': False\n",
    "}\n"
   ]
  },
  {
   "cell_type": "markdown",
   "id": "c543aacb",
   "metadata": {},
   "source": [
    "# Nested Cross-Validation"
   ]
  },
  {
   "cell_type": "code",
   "execution_count": null,
   "id": "e974add3",
   "metadata": {},
   "outputs": [
    {
     "name": "stdout",
     "output_type": "stream",
     "text": [
      "\n",
      "Arquitectures to be tested:\n",
      "layers_list=[2]\n",
      "\t heads_list=[5, 4, 3, 2]\n",
      "\n",
      "============================================================\n",
      "Testing Combination: ViT Layers=2, ViT Heads=5, LR=2.0e-07, WeightDecay=2e-04\n",
      "Hidden Size: 330, MLP Dim: 1320, Dropout: 0.1\n",
      "\n",
      "Directory /home/diogommiranda/tese/outputs/resnetvit/nc_ad/no_pretrain/16B/num_layers_2/num_heads_5/LR_2.0e-07_WD_2e-04 already exists. Skipping...\n",
      "\n",
      "============================================================\n",
      "Testing Combination: ViT Layers=2, ViT Heads=4, LR=2.0e-07, WeightDecay=2e-04\n",
      "Hidden Size: 252, MLP Dim: 1008, Dropout: 0.1\n",
      "    Saving results for this combo to: /home/diogommiranda/tese/outputs/resnetvit/nc_ad/no_pretrain/16B/num_layers_2/num_heads_4/LR_2.0e-07_WD_2e-04\n",
      "============================================================\n",
      "------------------------------------------------------------\n",
      "Training Fold 1/5 for LR=2.0e-07 and WD=2e-04...\n",
      "  Train samples: 787, Validation samples: 203\n",
      "Calculated Min: -0.32768693566322327, Max: 2.7118232250213623\n",
      "  Fold train label counts: {0: 422, 1: 365}\n",
      "  Calculated pos_weight for BCEWithLogitsLoss: 1.1562\n",
      "\n",
      "No pretrained weights used. Training from scratch...\n",
      "\n",
      "Using Adam optimizer.\n",
      "\n"
     ]
    },
    {
     "name": "stderr",
     "output_type": "stream",
     "text": [
      "  8%|▊         | 24/300 [02:40<30:40,  6.67s/it]\n"
     ]
    },
    {
     "ename": "KeyboardInterrupt",
     "evalue": "",
     "output_type": "error",
     "traceback": [
      "\u001b[0;31m---------------------------------------------------------------------------\u001b[0m",
      "\u001b[0;31mKeyboardInterrupt\u001b[0m                         Traceback (most recent call last)",
      "Cell \u001b[0;32mIn[5], line 227\u001b[0m\n\u001b[1;32m    224\u001b[0m train_pred_probs \u001b[38;5;241m=\u001b[39m []\n\u001b[1;32m    225\u001b[0m train_targets \u001b[38;5;241m=\u001b[39m []\n\u001b[0;32m--> 227\u001b[0m \u001b[38;5;28;01mfor\u001b[39;00m i, (inputs, labels) \u001b[38;5;129;01min\u001b[39;00m \u001b[38;5;28menumerate\u001b[39m(fold_train_data):\n\u001b[1;32m    228\u001b[0m     inputs \u001b[38;5;241m=\u001b[39m inputs\u001b[38;5;241m.\u001b[39mto(device)\n\u001b[1;32m    229\u001b[0m     labels \u001b[38;5;241m=\u001b[39m labels\u001b[38;5;241m.\u001b[39mfloat()\u001b[38;5;241m.\u001b[39munsqueeze(\u001b[38;5;241m1\u001b[39m)\u001b[38;5;241m.\u001b[39mto(device)\n",
      "File \u001b[0;32m~/tese/ml/lib/python3.10/site-packages/torch/utils/data/dataloader.py:733\u001b[0m, in \u001b[0;36m_BaseDataLoaderIter.__next__\u001b[0;34m(self)\u001b[0m\n\u001b[1;32m    730\u001b[0m \u001b[38;5;28;01mif\u001b[39;00m \u001b[38;5;28mself\u001b[39m\u001b[38;5;241m.\u001b[39m_sampler_iter \u001b[38;5;129;01mis\u001b[39;00m \u001b[38;5;28;01mNone\u001b[39;00m:\n\u001b[1;32m    731\u001b[0m     \u001b[38;5;66;03m# TODO(https://github.com/pytorch/pytorch/issues/76750)\u001b[39;00m\n\u001b[1;32m    732\u001b[0m     \u001b[38;5;28mself\u001b[39m\u001b[38;5;241m.\u001b[39m_reset()  \u001b[38;5;66;03m# type: ignore[call-arg]\u001b[39;00m\n\u001b[0;32m--> 733\u001b[0m data \u001b[38;5;241m=\u001b[39m \u001b[38;5;28;43mself\u001b[39;49m\u001b[38;5;241;43m.\u001b[39;49m\u001b[43m_next_data\u001b[49m\u001b[43m(\u001b[49m\u001b[43m)\u001b[49m\n\u001b[1;32m    734\u001b[0m \u001b[38;5;28mself\u001b[39m\u001b[38;5;241m.\u001b[39m_num_yielded \u001b[38;5;241m+\u001b[39m\u001b[38;5;241m=\u001b[39m \u001b[38;5;241m1\u001b[39m\n\u001b[1;32m    735\u001b[0m \u001b[38;5;28;01mif\u001b[39;00m (\n\u001b[1;32m    736\u001b[0m     \u001b[38;5;28mself\u001b[39m\u001b[38;5;241m.\u001b[39m_dataset_kind \u001b[38;5;241m==\u001b[39m _DatasetKind\u001b[38;5;241m.\u001b[39mIterable\n\u001b[1;32m    737\u001b[0m     \u001b[38;5;129;01mand\u001b[39;00m \u001b[38;5;28mself\u001b[39m\u001b[38;5;241m.\u001b[39m_IterableDataset_len_called \u001b[38;5;129;01mis\u001b[39;00m \u001b[38;5;129;01mnot\u001b[39;00m \u001b[38;5;28;01mNone\u001b[39;00m\n\u001b[1;32m    738\u001b[0m     \u001b[38;5;129;01mand\u001b[39;00m \u001b[38;5;28mself\u001b[39m\u001b[38;5;241m.\u001b[39m_num_yielded \u001b[38;5;241m>\u001b[39m \u001b[38;5;28mself\u001b[39m\u001b[38;5;241m.\u001b[39m_IterableDataset_len_called\n\u001b[1;32m    739\u001b[0m ):\n",
      "File \u001b[0;32m~/tese/ml/lib/python3.10/site-packages/torch/utils/data/dataloader.py:1491\u001b[0m, in \u001b[0;36m_MultiProcessingDataLoaderIter._next_data\u001b[0;34m(self)\u001b[0m\n\u001b[1;32m   1488\u001b[0m     \u001b[38;5;28;01mreturn\u001b[39;00m \u001b[38;5;28mself\u001b[39m\u001b[38;5;241m.\u001b[39m_process_data(data, worker_id)\n\u001b[1;32m   1490\u001b[0m \u001b[38;5;28;01massert\u001b[39;00m \u001b[38;5;129;01mnot\u001b[39;00m \u001b[38;5;28mself\u001b[39m\u001b[38;5;241m.\u001b[39m_shutdown \u001b[38;5;129;01mand\u001b[39;00m \u001b[38;5;28mself\u001b[39m\u001b[38;5;241m.\u001b[39m_tasks_outstanding \u001b[38;5;241m>\u001b[39m \u001b[38;5;241m0\u001b[39m\n\u001b[0;32m-> 1491\u001b[0m idx, data \u001b[38;5;241m=\u001b[39m \u001b[38;5;28;43mself\u001b[39;49m\u001b[38;5;241;43m.\u001b[39;49m\u001b[43m_get_data\u001b[49m\u001b[43m(\u001b[49m\u001b[43m)\u001b[49m\n\u001b[1;32m   1492\u001b[0m \u001b[38;5;28mself\u001b[39m\u001b[38;5;241m.\u001b[39m_tasks_outstanding \u001b[38;5;241m-\u001b[39m\u001b[38;5;241m=\u001b[39m \u001b[38;5;241m1\u001b[39m\n\u001b[1;32m   1493\u001b[0m \u001b[38;5;28;01mif\u001b[39;00m \u001b[38;5;28mself\u001b[39m\u001b[38;5;241m.\u001b[39m_dataset_kind \u001b[38;5;241m==\u001b[39m _DatasetKind\u001b[38;5;241m.\u001b[39mIterable:\n\u001b[1;32m   1494\u001b[0m     \u001b[38;5;66;03m# Check for _IterableDatasetStopIteration\u001b[39;00m\n",
      "File \u001b[0;32m~/tese/ml/lib/python3.10/site-packages/torch/utils/data/dataloader.py:1453\u001b[0m, in \u001b[0;36m_MultiProcessingDataLoaderIter._get_data\u001b[0;34m(self)\u001b[0m\n\u001b[1;32m   1449\u001b[0m     \u001b[38;5;66;03m# In this case, `self._data_queue` is a `queue.Queue`,. But we don't\u001b[39;00m\n\u001b[1;32m   1450\u001b[0m     \u001b[38;5;66;03m# need to call `.task_done()` because we don't use `.join()`.\u001b[39;00m\n\u001b[1;32m   1451\u001b[0m \u001b[38;5;28;01melse\u001b[39;00m:\n\u001b[1;32m   1452\u001b[0m     \u001b[38;5;28;01mwhile\u001b[39;00m \u001b[38;5;28;01mTrue\u001b[39;00m:\n\u001b[0;32m-> 1453\u001b[0m         success, data \u001b[38;5;241m=\u001b[39m \u001b[38;5;28;43mself\u001b[39;49m\u001b[38;5;241;43m.\u001b[39;49m\u001b[43m_try_get_data\u001b[49m\u001b[43m(\u001b[49m\u001b[43m)\u001b[49m\n\u001b[1;32m   1454\u001b[0m         \u001b[38;5;28;01mif\u001b[39;00m success:\n\u001b[1;32m   1455\u001b[0m             \u001b[38;5;28;01mreturn\u001b[39;00m data\n",
      "File \u001b[0;32m~/tese/ml/lib/python3.10/site-packages/torch/utils/data/dataloader.py:1284\u001b[0m, in \u001b[0;36m_MultiProcessingDataLoaderIter._try_get_data\u001b[0;34m(self, timeout)\u001b[0m\n\u001b[1;32m   1271\u001b[0m \u001b[38;5;28;01mdef\u001b[39;00m\u001b[38;5;250m \u001b[39m\u001b[38;5;21m_try_get_data\u001b[39m(\u001b[38;5;28mself\u001b[39m, timeout\u001b[38;5;241m=\u001b[39m_utils\u001b[38;5;241m.\u001b[39mMP_STATUS_CHECK_INTERVAL):\n\u001b[1;32m   1272\u001b[0m     \u001b[38;5;66;03m# Tries to fetch data from `self._data_queue` once for a given timeout.\u001b[39;00m\n\u001b[1;32m   1273\u001b[0m     \u001b[38;5;66;03m# This can also be used as inner loop of fetching without timeout, with\u001b[39;00m\n\u001b[0;32m   (...)\u001b[0m\n\u001b[1;32m   1281\u001b[0m     \u001b[38;5;66;03m# Returns a 2-tuple:\u001b[39;00m\n\u001b[1;32m   1282\u001b[0m     \u001b[38;5;66;03m#   (bool: whether successfully get data, any: data if successful else None)\u001b[39;00m\n\u001b[1;32m   1283\u001b[0m     \u001b[38;5;28;01mtry\u001b[39;00m:\n\u001b[0;32m-> 1284\u001b[0m         data \u001b[38;5;241m=\u001b[39m \u001b[38;5;28;43mself\u001b[39;49m\u001b[38;5;241;43m.\u001b[39;49m\u001b[43m_data_queue\u001b[49m\u001b[38;5;241;43m.\u001b[39;49m\u001b[43mget\u001b[49m\u001b[43m(\u001b[49m\u001b[43mtimeout\u001b[49m\u001b[38;5;241;43m=\u001b[39;49m\u001b[43mtimeout\u001b[49m\u001b[43m)\u001b[49m\n\u001b[1;32m   1285\u001b[0m         \u001b[38;5;28;01mreturn\u001b[39;00m (\u001b[38;5;28;01mTrue\u001b[39;00m, data)\n\u001b[1;32m   1286\u001b[0m     \u001b[38;5;28;01mexcept\u001b[39;00m \u001b[38;5;167;01mException\u001b[39;00m \u001b[38;5;28;01mas\u001b[39;00m e:\n\u001b[1;32m   1287\u001b[0m         \u001b[38;5;66;03m# At timeout and error, we manually check whether any worker has\u001b[39;00m\n\u001b[1;32m   1288\u001b[0m         \u001b[38;5;66;03m# failed. Note that this is the only mechanism for Windows to detect\u001b[39;00m\n\u001b[1;32m   1289\u001b[0m         \u001b[38;5;66;03m# worker failures.\u001b[39;00m\n",
      "File \u001b[0;32m/usr/lib/python3.10/multiprocessing/queues.py:122\u001b[0m, in \u001b[0;36mQueue.get\u001b[0;34m(self, block, timeout)\u001b[0m\n\u001b[1;32m    120\u001b[0m         \u001b[38;5;28mself\u001b[39m\u001b[38;5;241m.\u001b[39m_rlock\u001b[38;5;241m.\u001b[39mrelease()\n\u001b[1;32m    121\u001b[0m \u001b[38;5;66;03m# unserialize the data after having released the lock\u001b[39;00m\n\u001b[0;32m--> 122\u001b[0m \u001b[38;5;28;01mreturn\u001b[39;00m \u001b[43m_ForkingPickler\u001b[49m\u001b[38;5;241;43m.\u001b[39;49m\u001b[43mloads\u001b[49m\u001b[43m(\u001b[49m\u001b[43mres\u001b[49m\u001b[43m)\u001b[49m\n",
      "File \u001b[0;32m~/tese/ml/lib/python3.10/site-packages/torch/multiprocessing/reductions.py:541\u001b[0m, in \u001b[0;36mrebuild_storage_fd\u001b[0;34m(cls, df, size)\u001b[0m\n\u001b[1;32m    540\u001b[0m \u001b[38;5;28;01mdef\u001b[39;00m\u001b[38;5;250m \u001b[39m\u001b[38;5;21mrebuild_storage_fd\u001b[39m(\u001b[38;5;28mcls\u001b[39m, df, size):\n\u001b[0;32m--> 541\u001b[0m     fd \u001b[38;5;241m=\u001b[39m \u001b[43mdf\u001b[49m\u001b[38;5;241;43m.\u001b[39;49m\u001b[43mdetach\u001b[49m\u001b[43m(\u001b[49m\u001b[43m)\u001b[49m\n\u001b[1;32m    542\u001b[0m     \u001b[38;5;28;01mtry\u001b[39;00m:\n\u001b[1;32m    543\u001b[0m         storage \u001b[38;5;241m=\u001b[39m storage_from_cache(\u001b[38;5;28mcls\u001b[39m, fd_id(fd))\n",
      "File \u001b[0;32m/usr/lib/python3.10/multiprocessing/resource_sharer.py:57\u001b[0m, in \u001b[0;36mDupFd.detach\u001b[0;34m(self)\u001b[0m\n\u001b[1;32m     55\u001b[0m \u001b[38;5;28;01mdef\u001b[39;00m\u001b[38;5;250m \u001b[39m\u001b[38;5;21mdetach\u001b[39m(\u001b[38;5;28mself\u001b[39m):\n\u001b[1;32m     56\u001b[0m \u001b[38;5;250m    \u001b[39m\u001b[38;5;124;03m'''Get the fd.  This should only be called once.'''\u001b[39;00m\n\u001b[0;32m---> 57\u001b[0m     \u001b[38;5;28;01mwith\u001b[39;00m \u001b[43m_resource_sharer\u001b[49m\u001b[38;5;241;43m.\u001b[39;49m\u001b[43mget_connection\u001b[49m\u001b[43m(\u001b[49m\u001b[38;5;28;43mself\u001b[39;49m\u001b[38;5;241;43m.\u001b[39;49m\u001b[43m_id\u001b[49m\u001b[43m)\u001b[49m \u001b[38;5;28;01mas\u001b[39;00m conn:\n\u001b[1;32m     58\u001b[0m         \u001b[38;5;28;01mreturn\u001b[39;00m reduction\u001b[38;5;241m.\u001b[39mrecv_handle(conn)\n",
      "File \u001b[0;32m/usr/lib/python3.10/multiprocessing/resource_sharer.py:86\u001b[0m, in \u001b[0;36m_ResourceSharer.get_connection\u001b[0;34m(ident)\u001b[0m\n\u001b[1;32m     84\u001b[0m \u001b[38;5;28;01mfrom\u001b[39;00m\u001b[38;5;250m \u001b[39m\u001b[38;5;21;01m.\u001b[39;00m\u001b[38;5;21;01mconnection\u001b[39;00m\u001b[38;5;250m \u001b[39m\u001b[38;5;28;01mimport\u001b[39;00m Client\n\u001b[1;32m     85\u001b[0m address, key \u001b[38;5;241m=\u001b[39m ident\n\u001b[0;32m---> 86\u001b[0m c \u001b[38;5;241m=\u001b[39m \u001b[43mClient\u001b[49m\u001b[43m(\u001b[49m\u001b[43maddress\u001b[49m\u001b[43m,\u001b[49m\u001b[43m \u001b[49m\u001b[43mauthkey\u001b[49m\u001b[38;5;241;43m=\u001b[39;49m\u001b[43mprocess\u001b[49m\u001b[38;5;241;43m.\u001b[39;49m\u001b[43mcurrent_process\u001b[49m\u001b[43m(\u001b[49m\u001b[43m)\u001b[49m\u001b[38;5;241;43m.\u001b[39;49m\u001b[43mauthkey\u001b[49m\u001b[43m)\u001b[49m\n\u001b[1;32m     87\u001b[0m c\u001b[38;5;241m.\u001b[39msend((key, os\u001b[38;5;241m.\u001b[39mgetpid()))\n\u001b[1;32m     88\u001b[0m \u001b[38;5;28;01mreturn\u001b[39;00m c\n",
      "File \u001b[0;32m/usr/lib/python3.10/multiprocessing/connection.py:509\u001b[0m, in \u001b[0;36mClient\u001b[0;34m(address, family, authkey)\u001b[0m\n\u001b[1;32m    507\u001b[0m \u001b[38;5;28;01mif\u001b[39;00m authkey \u001b[38;5;129;01mis\u001b[39;00m \u001b[38;5;129;01mnot\u001b[39;00m \u001b[38;5;28;01mNone\u001b[39;00m:\n\u001b[1;32m    508\u001b[0m     answer_challenge(c, authkey)\n\u001b[0;32m--> 509\u001b[0m     \u001b[43mdeliver_challenge\u001b[49m\u001b[43m(\u001b[49m\u001b[43mc\u001b[49m\u001b[43m,\u001b[49m\u001b[43m \u001b[49m\u001b[43mauthkey\u001b[49m\u001b[43m)\u001b[49m\n\u001b[1;32m    511\u001b[0m \u001b[38;5;28;01mreturn\u001b[39;00m c\n",
      "File \u001b[0;32m/usr/lib/python3.10/multiprocessing/connection.py:740\u001b[0m, in \u001b[0;36mdeliver_challenge\u001b[0;34m(connection, authkey)\u001b[0m\n\u001b[1;32m    738\u001b[0m connection\u001b[38;5;241m.\u001b[39msend_bytes(CHALLENGE \u001b[38;5;241m+\u001b[39m message)\n\u001b[1;32m    739\u001b[0m digest \u001b[38;5;241m=\u001b[39m hmac\u001b[38;5;241m.\u001b[39mnew(authkey, message, \u001b[38;5;124m'\u001b[39m\u001b[38;5;124mmd5\u001b[39m\u001b[38;5;124m'\u001b[39m)\u001b[38;5;241m.\u001b[39mdigest()\n\u001b[0;32m--> 740\u001b[0m response \u001b[38;5;241m=\u001b[39m \u001b[43mconnection\u001b[49m\u001b[38;5;241;43m.\u001b[39;49m\u001b[43mrecv_bytes\u001b[49m\u001b[43m(\u001b[49m\u001b[38;5;241;43m256\u001b[39;49m\u001b[43m)\u001b[49m        \u001b[38;5;66;03m# reject large message\u001b[39;00m\n\u001b[1;32m    741\u001b[0m \u001b[38;5;28;01mif\u001b[39;00m response \u001b[38;5;241m==\u001b[39m digest:\n\u001b[1;32m    742\u001b[0m     connection\u001b[38;5;241m.\u001b[39msend_bytes(WELCOME)\n",
      "File \u001b[0;32m/usr/lib/python3.10/multiprocessing/connection.py:216\u001b[0m, in \u001b[0;36m_ConnectionBase.recv_bytes\u001b[0;34m(self, maxlength)\u001b[0m\n\u001b[1;32m    214\u001b[0m \u001b[38;5;28;01mif\u001b[39;00m maxlength \u001b[38;5;129;01mis\u001b[39;00m \u001b[38;5;129;01mnot\u001b[39;00m \u001b[38;5;28;01mNone\u001b[39;00m \u001b[38;5;129;01mand\u001b[39;00m maxlength \u001b[38;5;241m<\u001b[39m \u001b[38;5;241m0\u001b[39m:\n\u001b[1;32m    215\u001b[0m     \u001b[38;5;28;01mraise\u001b[39;00m \u001b[38;5;167;01mValueError\u001b[39;00m(\u001b[38;5;124m\"\u001b[39m\u001b[38;5;124mnegative maxlength\u001b[39m\u001b[38;5;124m\"\u001b[39m)\n\u001b[0;32m--> 216\u001b[0m buf \u001b[38;5;241m=\u001b[39m \u001b[38;5;28;43mself\u001b[39;49m\u001b[38;5;241;43m.\u001b[39;49m\u001b[43m_recv_bytes\u001b[49m\u001b[43m(\u001b[49m\u001b[43mmaxlength\u001b[49m\u001b[43m)\u001b[49m\n\u001b[1;32m    217\u001b[0m \u001b[38;5;28;01mif\u001b[39;00m buf \u001b[38;5;129;01mis\u001b[39;00m \u001b[38;5;28;01mNone\u001b[39;00m:\n\u001b[1;32m    218\u001b[0m     \u001b[38;5;28mself\u001b[39m\u001b[38;5;241m.\u001b[39m_bad_message_length()\n",
      "File \u001b[0;32m/usr/lib/python3.10/multiprocessing/connection.py:421\u001b[0m, in \u001b[0;36mConnection._recv_bytes\u001b[0;34m(self, maxsize)\u001b[0m\n\u001b[1;32m    419\u001b[0m \u001b[38;5;28;01mif\u001b[39;00m maxsize \u001b[38;5;129;01mis\u001b[39;00m \u001b[38;5;129;01mnot\u001b[39;00m \u001b[38;5;28;01mNone\u001b[39;00m \u001b[38;5;129;01mand\u001b[39;00m size \u001b[38;5;241m>\u001b[39m maxsize:\n\u001b[1;32m    420\u001b[0m     \u001b[38;5;28;01mreturn\u001b[39;00m \u001b[38;5;28;01mNone\u001b[39;00m\n\u001b[0;32m--> 421\u001b[0m \u001b[38;5;28;01mreturn\u001b[39;00m \u001b[38;5;28;43mself\u001b[39;49m\u001b[38;5;241;43m.\u001b[39;49m\u001b[43m_recv\u001b[49m\u001b[43m(\u001b[49m\u001b[43msize\u001b[49m\u001b[43m)\u001b[49m\n",
      "File \u001b[0;32m/usr/lib/python3.10/multiprocessing/connection.py:379\u001b[0m, in \u001b[0;36mConnection._recv\u001b[0;34m(self, size, read)\u001b[0m\n\u001b[1;32m    377\u001b[0m remaining \u001b[38;5;241m=\u001b[39m size\n\u001b[1;32m    378\u001b[0m \u001b[38;5;28;01mwhile\u001b[39;00m remaining \u001b[38;5;241m>\u001b[39m \u001b[38;5;241m0\u001b[39m:\n\u001b[0;32m--> 379\u001b[0m     chunk \u001b[38;5;241m=\u001b[39m \u001b[43mread\u001b[49m\u001b[43m(\u001b[49m\u001b[43mhandle\u001b[49m\u001b[43m,\u001b[49m\u001b[43m \u001b[49m\u001b[43mremaining\u001b[49m\u001b[43m)\u001b[49m\n\u001b[1;32m    380\u001b[0m     n \u001b[38;5;241m=\u001b[39m \u001b[38;5;28mlen\u001b[39m(chunk)\n\u001b[1;32m    381\u001b[0m     \u001b[38;5;28;01mif\u001b[39;00m n \u001b[38;5;241m==\u001b[39m \u001b[38;5;241m0\u001b[39m:\n",
      "\u001b[0;31mKeyboardInterrupt\u001b[0m: "
     ]
    }
   ],
   "source": [
    "# ----- Hyperparameter Tuning with K-Fold Cross-Validation -----\n",
    "\n",
    "N_SPLITS = 5 # Number of splits for cross-validation\n",
    "NUM_EPOCHS = 300\n",
    "EARLY_STOP_PATIENCE = 20\n",
    "\n",
    "#learning_rates = [2e-7, 4e-7]\n",
    "learning_rates = [2e-7] # CASO DECIDA USAR LR EM FUNCAO DE HEADS, DESCOMENTAR E EDITAR EM BAIXO\n",
    "weight_decays = [2e-4]\n",
    "\n",
    "layers_list = [2]\n",
    "heads_list = [5,4,3,2]\n",
    "\n",
    "# Set up StratifiedGroupKFold by subjects\n",
    "sgkf = StratifiedGroupKFold(n_splits=N_SPLITS, shuffle=True, random_state=seed)\n",
    "subject_ids_list = [extract_subject_id(p) for p in train_paths]\n",
    "subject_ids = np.array(subject_ids_list)\n",
    "\n",
    "overall_start_time = time.time()\n",
    "\n",
    "dropout = vit_config['dropout_rate']\n",
    "print(f\"\\nArquitectures to be tested:\\nlayers_list={layers_list}\\n\\t heads_list={heads_list}\\n\")\n",
    "# For-loop over determined number of vit layers and heads\n",
    "for layers in layers_list:\n",
    "    vit_config['num_layers'] = layers\n",
    "    for heads in heads_list:\n",
    "        vit_config['num_heads'] = heads\n",
    "        if heads == 1:\n",
    "            vit_config['hidden_size'] = 66\n",
    "            vit_config['mlp_dim'] = 264\n",
    "        elif heads == 2:\n",
    "            vit_config['hidden_size'] = 126\n",
    "            vit_config['mlp_dim'] = 504\n",
    "        elif heads == 3:\n",
    "            vit_config['hidden_size'] = 192\n",
    "            vit_config['mlp_dim'] = 768\n",
    "        elif heads == 4:\n",
    "            vit_config['hidden_size'] = 252\n",
    "            vit_config['mlp_dim'] = 1008\n",
    "        elif heads == 5:\n",
    "            vit_config['hidden_size'] = 330\n",
    "            vit_config['mlp_dim'] = 1320\n",
    "        elif heads == 6:\n",
    "            vit_config['hidden_size'] = 384\n",
    "            vit_config['mlp_dim'] = 1536\n",
    "        elif heads == 7:\n",
    "            vit_config['hidden_size'] = 462\n",
    "            vit_config['mlp_dim'] = 1848\n",
    "        elif heads == 8:\n",
    "            vit_config['hidden_size'] = 504\n",
    "            vit_config['mlp_dim'] = 2016\n",
    "            \n",
    "        dir3 = f\"num_layers_{vit_config['num_layers']}/\" \n",
    "        dir4 = f\"num_heads_{vit_config['num_heads']}/\"\n",
    "        # Base directory for layers and heads\n",
    "        RESULTS_BASE_DIR = \"/home/diogommiranda/tese/outputs/resnetvit/\" + DATASET + \"/\" + str(BATCH_SIZE) + \"B/\" + dir3 + dir4\n",
    "        os.makedirs(RESULTS_BASE_DIR, exist_ok=True)\n",
    "        \n",
    "        #if heads < 4:\n",
    "            #learning_rates = [2e-7]\n",
    "        #else:\n",
    "            #learning_rates = [1e-7, 2e-7]\n",
    "        \n",
    "        # For-loop over determined learning rates and weight decays\n",
    "        for current_lr in learning_rates:\n",
    "            for current_wd in weight_decays:\n",
    "                print(\"=\" * 60)\n",
    "                print(f\"Testing Combination: ViT Layers={layers}, ViT Heads={heads}, LR={current_lr:.1e}, WeightDecay={current_wd:.0e}\")\n",
    "                print(f\"Hidden Size: {vit_config['hidden_size']}, MLP Dim: {vit_config['mlp_dim']}, Dropout: {dropout}\")\n",
    "\n",
    "                combo_dir_name = f\"LR_{current_lr:.1e}_WD_{current_wd:.0e}\"\n",
    "                    \n",
    "                combo_results_dir = os.path.join(RESULTS_BASE_DIR, combo_dir_name)\n",
    "                if os.path.exists(combo_results_dir):\n",
    "                    print(f\"\\nDirectory {combo_results_dir} already exists. Skipping...\\n\")\n",
    "                    continue\n",
    "                \n",
    "                os.makedirs(combo_results_dir, exist_ok=True)\n",
    "                print(f\"    Saving results for this combo to: {combo_results_dir}\")\n",
    "                print(\"=\" * 60)\n",
    "\n",
    "                start_time_combination = time.time()\n",
    "                \n",
    "                current_combo_val_losses = []\n",
    "                current_combo_val_accuracies = []\n",
    "                current_combo_val_aucs = []\n",
    "                current_combo_best_epoch = []\n",
    "                \n",
    "                current_combo_val_sensitivities = []\n",
    "                current_combo_val_specificities = []\n",
    "                current_combo_val_baccs = []\n",
    "                current_combo_val_f1s = []\n",
    "                current_combo_val_mccs = []\n",
    "\n",
    "                current_combo_test_losses = []\n",
    "                current_combo_test_accuracies = []\n",
    "                current_combo_test_aucs = []\n",
    "                \n",
    "                current_combo_test_sensitivities = []\n",
    "                current_combo_test_specificities = []\n",
    "                current_combo_test_baccs = []\n",
    "                current_combo_test_f1s = []\n",
    "                current_combo_test_mccs = []\n",
    "\n",
    "                fold_no = 1\n",
    "\n",
    "                # K-Fold Cross-Validation\n",
    "                for train_indices, val_indices in sgkf.split(train_paths, train_labels, groups=subject_ids):\n",
    "                    print(\"-\" * 60)\n",
    "                    print(f\"Training Fold {fold_no}/{N_SPLITS} for LR={current_lr:.1e} and WD={current_wd:.0e}...\")\n",
    "                    start_time_fold = time.time()\n",
    "\n",
    "                    # Get paths and labels for the current fold\n",
    "                    fold_train_paths = train_paths[train_indices]\n",
    "                    fold_train_labels = train_labels[train_indices]\n",
    "                    fold_val_paths = train_paths[val_indices]\n",
    "                    fold_val_labels = train_labels[val_indices]\n",
    "\n",
    "                    # Verify subject separation\n",
    "                    train_subjects = set(subject_ids[train_indices])\n",
    "                    val_subjects = set(subject_ids[val_indices])\n",
    "                    if not train_subjects.isdisjoint(val_subjects):\n",
    "                            raise RuntimeError(f\"WARNING: Fold {fold_no} has overlapping subjects!\")\n",
    "\n",
    "                    print(f\"  Train samples: {len(fold_train_paths)}, Validation samples: {len(fold_val_paths)}\")\n",
    "\n",
    "                    # Calculate minmax parameters for the current training fold\n",
    "                    fold_min, fold_max = calculate_min_max(fold_train_paths)\n",
    "\n",
    "                    # Create fold train dataset\n",
    "                    fold_train_data = create_dataloader(\n",
    "                        paths=fold_train_paths,\n",
    "                        labels=fold_train_labels,\n",
    "                        batch_size=BATCH_SIZE,\n",
    "                        volume_shape=VOLUME_SHAPE,\n",
    "                        is_training=True, \n",
    "                        seed=seed,\n",
    "                        min_val=fold_min, \n",
    "                        max_val=fold_max,\n",
    "                        mask_path=INPUT_ROI_MASK_PATH\n",
    "                    ) \n",
    "                    \n",
    "                    # Create fold validation dataset\n",
    "                    fold_val_data = create_dataloader(\n",
    "                        paths=fold_val_paths,\n",
    "                        labels=fold_val_labels,\n",
    "                        batch_size=BATCH_SIZE,\n",
    "                        volume_shape=VOLUME_SHAPE,\n",
    "                        is_training=False, \n",
    "                        seed=None,\n",
    "                        min_val=fold_min, \n",
    "                        max_val=fold_max,\n",
    "                        mask_path=INPUT_ROI_MASK_PATH\n",
    "                    )\n",
    "                    \n",
    "                    test_data = create_dataloader(\n",
    "                        paths=test_paths,\n",
    "                        labels=test_labels,\n",
    "                        batch_size=BATCH_SIZE,\n",
    "                        volume_shape=VOLUME_SHAPE,\n",
    "                        is_training=False,\n",
    "                        seed=None,\n",
    "                        min_val=fold_min, \n",
    "                        max_val=fold_max,\n",
    "                        mask_path=INPUT_ROI_MASK_PATH\n",
    "                        )\n",
    "\n",
    "                    if fold_train_data is None or fold_val_data is None or test_data is None:\n",
    "                            raise RuntimeError(f\"ERROR: Could not create datasets for fold {fold_no}.\")\n",
    "                        \n",
    "                    # Compute class weights for the current fold\n",
    "                    unique_classes, class_counts = np.unique(fold_train_labels, return_counts=True)\n",
    "                    print(f\"  Fold train label counts: {dict(zip(unique_classes, class_counts))}\")\n",
    "                    pos_weight_val = class_counts[0] / class_counts[1]\n",
    "                    pos_weight_val = torch.tensor([pos_weight_val], device=device)\n",
    "                    print(f\"  Calculated pos_weight for BCEWithLogitsLoss: {pos_weight_val.item():.4f}\")\n",
    "\n",
    "                    # Create the model\n",
    "                    resnet_feature_extractor = ResnetFeatureExtractor(resnet_config=resnet_config, device=device)\n",
    "                    model = ResNetViT(resnet_feature_extractor, vit_config).to(device)\n",
    "\n",
    "                    criterion = nn.BCEWithLogitsLoss(pos_weight=pos_weight_val).to(device)\n",
    "                    \n",
    "                    optimizer = torch.optim.Adam(model.parameters(), lr=current_lr, weight_decay=current_wd)\n",
    "                \n",
    "                    best_val_loss = float('inf')\n",
    "                    epochs_no_improve = 0\n",
    "                    best_epoch = 0\n",
    "                    best_model_state = None\n",
    "                    stopped_epoch = NUM_EPOCHS \n",
    "\n",
    "                    # Initialize history for this fold\n",
    "                    history = {'epoch': [], 'train_loss': [], 'train_accuracy': [], 'train_auc': [], 'val_loss': [], 'val_accuracy': [], 'val_auc': [],\n",
    "                               'val_sensitivity': [], 'val_specificity': [], 'val_bacc': [], 'val_f1': [], 'val_mcc': []}\n",
    "\n",
    "                    for epoch in tqdm(range(NUM_EPOCHS)):\n",
    "                        epoch_start_time = time.time()\n",
    "                        history['epoch'].append(epoch + 1)\n",
    "\n",
    "                        # ---------------- Train phase ----------------\n",
    "                        model.train()\n",
    "                        \n",
    "                        running_loss = 0.0\n",
    "                        train_pred_probs = []\n",
    "                        train_targets = []\n",
    "                        \n",
    "                        for i, (inputs, labels) in enumerate(fold_train_data):\n",
    "                            inputs = inputs.to(device)\n",
    "                            labels = labels.float().unsqueeze(1).to(device)\n",
    "                            \n",
    "                            optimizer.zero_grad()\n",
    "                            \n",
    "                            # Mixed precision\n",
    "                            with torch.autocast(device_type=device.type, dtype=torch.float16, enabled=USE_AMP):\n",
    "                                outputs = model(inputs)\n",
    "                                loss = criterion(outputs, labels)\n",
    "\n",
    "                            scaler.scale(loss).backward()\n",
    "                            scaler.step(optimizer)\n",
    "                            scaler.update()\n",
    "\n",
    "                            running_loss += loss.item() * inputs.size(0)\n",
    "                            \n",
    "                            prob_outputs = torch.sigmoid(outputs)\n",
    "                            train_pred_probs.extend(prob_outputs.detach().cpu().numpy())\n",
    "                            train_targets.extend(labels.detach().cpu().numpy())\n",
    "\n",
    "                        train_targets = np.array(train_targets).flatten()\n",
    "                        train_pred_probs = np.array(train_pred_probs).flatten()\n",
    "                        \n",
    "                        # Calculate training metrics for the epoch\n",
    "                        train_loss = running_loss / len(fold_train_data.dataset)\n",
    "                        train_acc = accuracy_score(train_targets, train_pred_probs >= 0.5)\n",
    "                        train_auc = roc_auc_score(train_targets, train_pred_probs)\n",
    "                        history['train_loss'].append(train_loss)\n",
    "                        history['train_accuracy'].append(train_acc)\n",
    "                        history['train_auc'].append(train_auc)\n",
    "\n",
    "                        # ---------------- Validation phase ----------------\n",
    "                        model.eval()\n",
    "                        val_running_loss = 0.0\n",
    "                        val_pred_probs = []\n",
    "                        val_targets = []\n",
    "\n",
    "                        with torch.inference_mode():\n",
    "                            for inputs, labels in fold_val_data:\n",
    "                                inputs = inputs.to(device)\n",
    "                                labels = labels.float().unsqueeze(1).to(device)\n",
    "\n",
    "                                # Mixed precision\n",
    "                                with torch.autocast(device_type=device.type, dtype=torch.float16, enabled=USE_AMP):\n",
    "                                    outputs = model(inputs)\n",
    "                                    loss = criterion(outputs, labels)\n",
    "\n",
    "                                val_running_loss += loss.item() * inputs.size(0)\n",
    "\n",
    "                                prob_outputs = torch.sigmoid(outputs)\n",
    "                                val_pred_probs.extend(prob_outputs.cpu().numpy())\n",
    "                                val_targets.extend(labels.cpu().numpy())\n",
    "                                \n",
    "                        val_targets = np.array(val_targets).flatten()\n",
    "                        val_pred_probs = np.array(val_pred_probs).flatten()\n",
    "\n",
    "                        # Calculate validation metrics for the epoch\n",
    "                        val_loss = val_running_loss / len(fold_val_data.dataset)\n",
    "                        val_acc = accuracy_score(val_targets, val_pred_probs >= 0.5)\n",
    "                        val_auc = roc_auc_score(val_targets, val_pred_probs)\n",
    "                        \n",
    "                        val_true = val_targets.astype(int)\n",
    "                        val_pred = val_pred_probs.round().astype(int)\n",
    "                        \n",
    "                        val_sensitivity = recall_score(val_true, val_pred, pos_label=1)\n",
    "                        val_specificity = recall_score(val_true, val_pred, pos_label=0)\n",
    "                        val_bacc = balanced_accuracy_score(val_true, val_pred)\n",
    "                        val_f1 = f1_score(val_true, val_pred, average='weighted')\n",
    "                        val_mcc = matthews_corrcoef(val_true, val_pred)\n",
    "                         \n",
    "                        \n",
    "                        history['val_loss'].append(val_loss)\n",
    "                        history['val_accuracy'].append(val_acc)\n",
    "                        history['val_auc'].append(val_auc)\n",
    "                        \n",
    "                        history['val_sensitivity'].append(val_sensitivity)\n",
    "                        history['val_specificity'].append(val_specificity)\n",
    "                        history['val_bacc'].append(val_bacc)\n",
    "                        history['val_f1'].append(val_f1)\n",
    "                        history['val_mcc'].append(val_mcc)\n",
    "\n",
    "                        # Print Epoch Summary\n",
    "                        epoch_duration = time.time() - epoch_start_time\n",
    "                        #print(f\"    Epoch {epoch+1}/{NUM_EPOCHS} [{epoch_duration:.2f}s] - \"\n",
    "                        #        f\"Train Loss: {train_loss:.5f}, Train Acc: {train_acc:.5f} | \"\n",
    "                        #        f\"Val Loss: {val_loss:.5f}, Val Acc: {val_acc:.5f}\")\n",
    "                        \n",
    "\n",
    "                        # Early stopping check\n",
    "                        if DATASET == \"smci_pmci_balanced\":\n",
    "                            # For smci_pmci_balanced, we monitor validation loss for early stopping (balanced dataset)\n",
    "                            if val_loss < best_val_loss:\n",
    "                                best_val_loss = val_loss\n",
    "                                epochs_no_improve = 0\n",
    "                                # Save the best model state\n",
    "                                best_model_state = model.state_dict()\n",
    "                                best_epoch = epoch + 1\n",
    "                            else:\n",
    "                                epochs_no_improve += 1\n",
    "                        elif DATASET == \"smci_pmci\":\n",
    "                            # For smci_pmci, we monitor balanced accuracy for early stopping to deal with class imbalance\n",
    "                            if val_bacc > best_val_bacc:\n",
    "                                best_val_bacc = val_bacc\n",
    "                                epochs_no_improve = 0\n",
    "                                # Save the best model state\n",
    "                                best_model_state = model.state_dict()\n",
    "                                best_epoch = epoch + 1\n",
    "                            else:\n",
    "                                epochs_no_improve += 1\n",
    "                        else:\n",
    "                            raise ValueError(\"Invalid dataset. Add option to the if statement.\")\n",
    "                    \n",
    "                    # Restore the best model state if early stopping was not triggered\n",
    "                    if epochs_no_improve < EARLY_STOP_PATIENCE:\n",
    "                        print(f\"Training completed for {NUM_EPOCHS} epochs. Restoring best model weights from epoch {best_epoch}.\")\n",
    "                        model.load_state_dict(best_model_state)\n",
    "                    \n",
    "                    # Save fold history and plots\n",
    "                    fold_dir = os.path.join(combo_results_dir, f\"fold_{fold_no}\")\n",
    "                    os.makedirs(fold_dir, exist_ok=True)\n",
    "                    history_df = pd.DataFrame(history)\n",
    "                    history_csv_path = os.path.join(fold_dir, f\"history_fold_{fold_no}.csv\")\n",
    "                    history_df.to_csv(history_csv_path, index=False)\n",
    "                    plot_loss_curves(history, fold_dir)\n",
    "\n",
    "                    # Evaluate the fold\n",
    "                    best_epoch_index = best_epoch - 1\n",
    "                    \n",
    "                    val_loss_best = history['val_loss'][best_epoch_index]\n",
    "                    val_accuracy_best = history['val_accuracy'][best_epoch_index]\n",
    "                    val_auc_best = history['val_auc'][best_epoch_index]\n",
    "                    \n",
    "                    val_sensitivity_best = history['val_sensitivity'][best_epoch_index]\n",
    "                    val_specificity_best = history['val_specificity'][best_epoch_index]\n",
    "                    val_bacc_best = history['val_bacc'][best_epoch_index]\n",
    "                    val_f1_best = history['val_f1'][best_epoch_index]\n",
    "                    val_mcc_best = history['val_mcc'][best_epoch_index]\n",
    "                    \n",
    "                    print(f\"    Fold {fold_no} - Best Epoch {best_epoch}, Val Loss: {val_loss_best:.4f}, Acc: {val_accuracy_best:.4f}, AUC: {val_auc_best:.4f}, \\n\"\n",
    "                          f\"    Sensitivity: {val_sensitivity_best:.4f}, Specificity: {val_specificity_best:.4f}, BACC: {val_bacc_best:.4f}, F1: {val_f1_best:.4f}, MCC: {val_mcc_best:.4f}\")\n",
    "\n",
    "                    # Append results for this fold\n",
    "                    current_combo_val_losses.append(val_loss_best)\n",
    "                    current_combo_val_accuracies.append(val_accuracy_best)\n",
    "                    current_combo_val_aucs.append(val_auc_best)\n",
    "                    current_combo_best_epoch.append(best_epoch)\n",
    "                    \n",
    "                    current_combo_val_sensitivities.append(val_sensitivity_best)\n",
    "                    current_combo_val_specificities.append(val_specificity_best)\n",
    "                    current_combo_val_baccs.append(val_bacc_best)\n",
    "                    current_combo_val_f1s.append(val_f1_best)\n",
    "                    current_combo_val_mccs.append(val_mcc_best)\n",
    "                    \n",
    "                    optimizer_name = optimizer.__class__.__name__\n",
    "                    \n",
    "                    end_time_fold = time.time()\n",
    "                    print(f\"    Fold {fold_no} finished in {end_time_fold - start_time_fold:.2f} seconds.\")\n",
    "                    fold_no += 1\n",
    "                    \n",
    "                    # Save the validation metrics for current fold\n",
    "                    val_metrics_file_path = os.path.join(fold_dir, \"val_results.txt\")\n",
    "                    with open(val_metrics_file_path, \"w\") as f:\n",
    "                        f.write(\"--- Validation Metrics ---\\n\")\n",
    "                        f.write(f\"Loss:        {val_loss_best:.4f}\\n\")\n",
    "                        f.write(f\"Accuracy:    {val_accuracy_best:.4f}\\n\")\n",
    "                        f.write(f\"Sensitivity: {val_sensitivity_best:.4f}\\n\")\n",
    "                        f.write(f\"Specificity: {val_specificity_best:.4f}\\n\")\n",
    "                        f.write(f\"Balanced Accuracy (BACC): {val_bacc_best:.4f}\\n\")\n",
    "                        f.write(f\"F1 Score (Weighted):      {val_f1_best:.4f}\\n\")\n",
    "                        f.write(f\"Matthews Corr Coef (MCC): {val_mcc_best:.4f}\\n\")\n",
    "                        f.write(f\"Area Under the Curve (AUC): {val_auc_best:.4f}\\n\")\n",
    "                    \n",
    "                    # ---------------- Evaluate the model on the test data ---------------- \n",
    "                    model.eval()\n",
    "                    test_running_loss = 0.0\n",
    "                    test_pred_probs = []\n",
    "                    test_targets = []\n",
    "\n",
    "                    with torch.inference_mode():\n",
    "                        for inputs, labels in test_data:\n",
    "                            inputs = inputs.to(device)\n",
    "                            labels = labels.float().unsqueeze(1).to(device)\n",
    "\n",
    "                            # Mixed precision\n",
    "                            with torch.autocast(device_type=device.type, dtype=torch.float16, enabled=USE_AMP):\n",
    "                                outputs = model(inputs)\n",
    "                                loss = criterion(outputs, labels)\n",
    "\n",
    "                            test_running_loss += loss.item() * inputs.size(0)\n",
    "                        \n",
    "                            prob_outputs = torch.sigmoid(outputs)\n",
    "                            \n",
    "                            test_pred_probs.extend(prob_outputs.cpu().numpy())\n",
    "                            test_targets.extend(labels.cpu().numpy())\n",
    "\n",
    "                    test_targets = np.array(test_targets).flatten()\n",
    "                    test_pred_probs = np.array(test_pred_probs).flatten()\n",
    "\n",
    "                    # Calculate test loss and accuracy\n",
    "                    test_loss = test_running_loss / len(test_data.dataset)\n",
    "                    test_acc = accuracy_score(test_targets, test_pred_probs >= 0.5)\n",
    "\n",
    "                    y_true = test_targets.astype(int)\n",
    "                    y_pred = test_pred_probs.round().astype(int)\n",
    "\n",
    "                    # Calculate metrics\n",
    "                    test_sensitivity = recall_score(y_true, y_pred, pos_label=1)\n",
    "                    test_specificity = recall_score(y_true, y_pred, pos_label=0)\n",
    "                    test_bacc = balanced_accuracy_score(y_true, y_pred)\n",
    "                    test_f1 = f1_score(y_true, y_pred, average='weighted')\n",
    "                    test_mcc = matthews_corrcoef(y_true, y_pred)\n",
    "                    test_auc_score = roc_auc_score(y_true, y_pred)\n",
    "                    \n",
    "                    print(f\"    Test Loss: {test_loss:.4f}, Test Accuracy: {test_acc:.4f}, AUC: {test_auc_score:.4f}, \\n\"\n",
    "                          f\"    Sensitivity: {test_sensitivity:.4f}, Specificity: {test_specificity:.4f}, BACC: {test_bacc:.4f}, F1: {test_f1:.4f}, MCC: {test_mcc:.4f}\")\n",
    "                    \n",
    "                    class0, class1 = DATASET.split(\"_\")\n",
    "                    target_names = [class0, class1]\n",
    "\n",
    "                    # Save the confusion matrix plot\n",
    "                    make_confusion_matrix(y_true=y_true,\n",
    "                                        y_pred=y_pred.round(),\n",
    "                                        classes=target_names,\n",
    "                                        figsize=(8, 8),\n",
    "                                        text_size=15,\n",
    "                                        save_dir=fold_dir)\n",
    "\n",
    "                    # Save the test loss and accuracy and the evaluation metrics\n",
    "                    result_file_path = os.path.join(fold_dir, \"test_results.txt\")\n",
    "                    with open(result_file_path, \"w\") as f:\n",
    "                        f.write(f\"[{test_loss}, {test_acc}]\\n\\n\")\n",
    "                        f.write(\"--- Evaluation Metrics on Test Set ---\\n\")\n",
    "                        f.write(f\"Accuracy:    {test_acc:.4f}\\n\")\n",
    "                        f.write(f\"Sensitivity: {test_sensitivity:.4f}\\n\")\n",
    "                        f.write(f\"Specificity: {test_specificity:.4f}\\n\")\n",
    "                        f.write(f\"Balanced Accuracy (BACC): {test_bacc:.4f}\\n\")\n",
    "                        f.write(f\"F1 Score (Weighted):      {test_f1:.4f}\\n\")\n",
    "                        f.write(f\"Matthews Corr Coef (MCC): {test_mcc:.4f}\\n\")\n",
    "                        f.write(f\"Area Under the Curve (AUC): {test_auc_score:.4f}\\n\")\n",
    "                        \n",
    "                    test_config = {\n",
    "                        \"vit_config\": vit_config,\n",
    "                        \"num_epochs\": int(best_epoch),\n",
    "                        \"optimizer\": optimizer_name,\n",
    "                        \"optimizer_params\": {\n",
    "                            \"lr\": float(current_lr),\n",
    "                            \"weight_decay\": float(current_wd)\n",
    "                        },\n",
    "                        \"batch_size\": BATCH_SIZE,\n",
    "                        \"seed\": seed,\n",
    "                        \"dataset\": DATASET\n",
    "                    }\n",
    "                    params_file_path = os.path.join(fold_dir, \"test_config.json\")\n",
    "                    with open(params_file_path, \"w\") as f:\n",
    "                        json.dump(test_config, f, indent=4)\n",
    "                            \n",
    "                    # Append results for this fold\n",
    "                    current_combo_test_losses.append(test_loss)\n",
    "                    current_combo_test_accuracies.append(test_acc)\n",
    "                    current_combo_test_aucs.append(test_auc_score)\n",
    "                    \n",
    "                    current_combo_test_sensitivities.append(test_sensitivity)\n",
    "                    current_combo_test_specificities.append(test_specificity)\n",
    "                    current_combo_test_baccs.append(test_bacc)\n",
    "                    current_combo_test_f1s.append(test_f1)\n",
    "                    current_combo_test_mccs.append(test_mcc)\n",
    "                    \n",
    "                    # Free resources\n",
    "                    del model, optimizer, criterion, fold_train_data, fold_val_data, history, history_df, best_model_state\n",
    "                    if device.type == 'cuda':\n",
    "                        torch.cuda.empty_cache() \n",
    "                    gc.collect() \n",
    "\n",
    "                end_time_combination = time.time()\n",
    "                print(f\"Combination finished in {end_time_combination - start_time_combination:.2f} seconds.\")\n",
    "\n",
    "                # Aggregate results across folds\n",
    "                avg_loss = np.mean(current_combo_val_losses)\n",
    "                std_loss = np.std(current_combo_val_losses)\n",
    "                avg_acc = np.mean(current_combo_val_accuracies)\n",
    "                std_acc = np.std(current_combo_val_accuracies)\n",
    "                avg_auc = np.mean(current_combo_val_aucs)\n",
    "                std_auc = np.std(current_combo_val_aucs)\n",
    "                \n",
    "                avg_sensitivity = np.mean(current_combo_val_sensitivities)\n",
    "                avg_specificity = np.mean(current_combo_val_specificities)\n",
    "                avg_bacc = np.mean(current_combo_val_baccs)\n",
    "                std_bacc = np.std(current_combo_val_baccs)\n",
    "                avg_f1 = np.mean(current_combo_val_f1s)\n",
    "                std_f1 = np.std(current_combo_val_f1s)\n",
    "                avg_mcc = np.mean(current_combo_val_mccs)\n",
    "\n",
    "                combo_average_results = {\n",
    "                    'avg_val_loss': avg_loss,\n",
    "                    'std_val_loss': std_loss,\n",
    "                    'avg_val_accuracy': avg_acc,\n",
    "                    'std_val_accuracy': std_acc,\n",
    "                    'avg_val_auc': avg_auc,\n",
    "                    'std_val_auc': std_auc,\n",
    "                    'individual_losses': [round(loss, 4) for loss in current_combo_val_losses],\n",
    "                    'individual_accuracies': [round(acc, 4) for acc in current_combo_val_accuracies],\n",
    "                    'individual_aucs': [round(auc, 4) for auc in current_combo_val_aucs],\n",
    "                    'best_epoch_per_fold': list(current_combo_best_epoch),\n",
    "                    'avg_val_sensitivity': avg_sensitivity,\n",
    "                    'avg_val_specificity': avg_specificity,\n",
    "                    'avg_val_bacc': avg_bacc,\n",
    "                    'std_val_bacc': std_bacc,\n",
    "                    'avg_val_f1': avg_f1,\n",
    "                    'std_val_f1': std_f1,\n",
    "                    'avg_val_mcc': avg_mcc,\n",
    "                    'individual_sensitivities': [round(sensitivity, 4) for sensitivity in current_combo_val_sensitivities],\n",
    "                    'individual_specificities': [round(specificity, 4) for specificity in current_combo_val_specificities],\n",
    "                    'individual_baccs': [round(bacc, 4) for bacc in current_combo_val_baccs],\n",
    "                    'individual_f1s': [round(f1, 4) for f1 in current_combo_val_f1s],\n",
    "                    'individual_mccs': [round(mcc, 4) for mcc in current_combo_val_mccs],\n",
    "                }\n",
    "\n",
    "                # Save results in a txt file and the parameters in a json file\n",
    "                val_results_df = pd.DataFrame(combo_average_results)\n",
    "                display_cols = list(combo_average_results.keys())\n",
    "\n",
    "                val_results_filepath = os.path.join(combo_results_dir, \"validation_results.txt\")\n",
    "                with open(val_results_filepath, \"w\") as f:\n",
    "                    print(\"Validation Results Summary:\", file=f)\n",
    "                    print(val_results_df[display_cols].round(6).to_string(index=False, max_colwidth=None, line_width=250), file=f)\n",
    "\n",
    "                    print(f\"\\nHyperparameters: LR={current_lr:.1e}, Weight_decay={current_wd:.0e}\", file=f)\n",
    "\n",
    "                avg_test_loss = np.mean(current_combo_test_losses)\n",
    "                std_test_loss = np.std(current_combo_test_losses)\n",
    "                avg_test_acc = np.mean(current_combo_test_accuracies)\n",
    "                std_test_acc = np.std(current_combo_test_accuracies)\n",
    "                avg_test_auc = np.mean(current_combo_test_aucs)\n",
    "                std_test_auc = np.std(current_combo_test_aucs)\n",
    "                \n",
    "                avg_test_sensitivity = np.mean(current_combo_test_sensitivities)\n",
    "                std_test_sensitivity = np.std(current_combo_test_sensitivities)\n",
    "                avg_test_specificity = np.mean(current_combo_test_specificities)\n",
    "                std_test_specificity = np.std(current_combo_test_specificities)\n",
    "                avg_test_bacc = np.mean(current_combo_test_baccs)\n",
    "                std_test_bacc = np.std(current_combo_test_baccs)\n",
    "                avg_test_f1 = np.mean(current_combo_test_f1s)\n",
    "                std_test_f1 = np.std(current_combo_test_f1s)\n",
    "                avg_test_mcc = np.mean(current_combo_test_mccs)\n",
    "                std_test_mcc = np.std(current_combo_test_mccs)\n",
    "\n",
    "                combo_test_average_results = {\n",
    "                    'avg_test_loss': avg_test_loss,\t\n",
    "                    'std_test_loss': std_test_loss,\n",
    "                    'avg_test_accuracy': avg_test_acc,\n",
    "                    'std_test_accuracy': std_test_acc,\n",
    "                    'avg_test_auc': avg_test_auc,\n",
    "                    'std_test_auc': std_test_auc,\n",
    "                    'individual_test_losses': [round(loss, 4) for loss in current_combo_test_losses],\n",
    "                    'individual_test_accuracies': [round(acc, 4) for acc in current_combo_test_accuracies],\n",
    "                    'individual_test_aucs': [round(auc, 4) for auc in current_combo_test_aucs],\n",
    "                    'avg_test_sensitivity': avg_test_sensitivity,\n",
    "                    'std_test_sensitivity': std_test_sensitivity,\n",
    "                    'avg_test_specificity': avg_test_specificity,\n",
    "                    'std_test_specificity': std_test_specificity,\n",
    "                    'avg_test_bacc': avg_test_bacc,\n",
    "                    'std_test_bacc': std_test_bacc,\n",
    "                    'avg_test_f1': avg_test_f1,\n",
    "                    'std_test_f1': std_test_f1,\n",
    "                    'avg_test_mcc': avg_test_mcc,\n",
    "                    'std_test_mcc': std_test_mcc,\n",
    "                    'individual_test_sensitivities': [round(sensitivity, 4) for sensitivity in current_combo_test_sensitivities],\n",
    "                    'individual_test_specificities': [round(specificity, 4) for specificity in current_combo_test_specificities],\n",
    "                    'individual_test_baccs': [round(bacc, 4) for bacc in current_combo_test_baccs],\n",
    "                    'individual_test_f1s': [round(f1, 4) for f1 in current_combo_test_f1s],\n",
    "                    'individual_test_mccs': [round(mcc, 4) for mcc in current_combo_test_mccs],\n",
    "                }\n",
    "                    \n",
    "                test_results_df = pd.DataFrame(combo_test_average_results)\n",
    "                display_cols = list(combo_test_average_results.keys())\n",
    "                test_results_filepath = os.path.join(combo_results_dir, \"average_test_results.txt\")\n",
    "                with open(test_results_filepath, \"w\") as f:\n",
    "                    print(\"Test Results Summary:\", file=f)\n",
    "                    print(test_results_df[display_cols].round(6).to_string(index=False, max_colwidth=None, line_width=250), file=f)\n",
    "\n",
    "                    print(f\"\\nHyperparameters: LR={current_lr:.1e}, Weight_decay={current_wd:.0e}\", file=f)\n",
    "\n",
    "                training_config = {\n",
    "                    \"vit_config\": vit_config,\n",
    "                    \"num_folds\": N_SPLITS,\n",
    "                    \"num_epochs\": NUM_EPOCHS,\n",
    "                    \"early_stop_patience\": EARLY_STOP_PATIENCE,\n",
    "                    \"optimizer\": optimizer_name,\n",
    "                    \"optimizer_params\": {\n",
    "                        \"lr\": float(current_lr),\n",
    "                        \"weight_decay\": float(current_wd)\n",
    "                    },\n",
    "                    \"batch_size\": BATCH_SIZE,\n",
    "                    \"seed\": seed,\n",
    "                    \"dataset\": DATASET\n",
    "                }\n",
    "                params_file_path = os.path.join(combo_results_dir, \"training_config.json\")\n",
    "                with open(params_file_path, \"w\") as f:\n",
    "                    json.dump(training_config, f, indent=4)"
   ]
  },
  {
   "cell_type": "markdown",
   "id": "fb5df0d1",
   "metadata": {},
   "source": [
    "# Train a model with the best hyperparameters"
   ]
  },
  {
   "cell_type": "code",
   "execution_count": null,
   "id": "36d9a954",
   "metadata": {},
   "outputs": [
    {
     "name": "stdout",
     "output_type": "stream",
     "text": [
      "Loading pretrained weights from path /home/diogommiranda/tese/outputs/torch/full_brain/smci_pmci/fixed_lr/saved_models/16B/LR=1.0e-05_WD=2e-04 (70)/model.pth\n",
      "\n",
      "\n",
      "Training the model from scratch with the best hyperparameters.\n",
      "  Train label counts: {0: 575, 1: 314}\n",
      "  Calculated pos_weight for BCEWithLogitsLoss: 1.8312\n"
     ]
    },
    {
     "name": "stderr",
     "output_type": "stream",
     "text": [
      "  1%|▏         | 1/80 [00:03<04:38,  3.53s/it]"
     ]
    },
    {
     "name": "stdout",
     "output_type": "stream",
     "text": [
      "    Epoch 1/80 [3.53s] - Train Loss: 0.93087, Train Acc: 0.52418\n"
     ]
    },
    {
     "name": "stderr",
     "output_type": "stream",
     "text": [
      "  2%|▎         | 2/80 [00:06<04:28,  3.45s/it]"
     ]
    },
    {
     "name": "stdout",
     "output_type": "stream",
     "text": [
      "    Epoch 2/80 [3.38s] - Train Loss: 0.93107, Train Acc: 0.52306\n"
     ]
    },
    {
     "name": "stderr",
     "output_type": "stream",
     "text": [
      "  4%|▍         | 3/80 [00:10<04:20,  3.39s/it]"
     ]
    },
    {
     "name": "stdout",
     "output_type": "stream",
     "text": [
      "    Epoch 3/80 [3.32s] - Train Loss: 0.92645, Train Acc: 0.48256\n"
     ]
    },
    {
     "name": "stderr",
     "output_type": "stream",
     "text": [
      "  5%|▌         | 4/80 [00:13<04:14,  3.35s/it]"
     ]
    },
    {
     "name": "stdout",
     "output_type": "stream",
     "text": [
      "    Epoch 4/80 [3.29s] - Train Loss: 0.89713, Train Acc: 0.52756\n"
     ]
    },
    {
     "name": "stderr",
     "output_type": "stream",
     "text": [
      "  6%|▋         | 5/80 [00:16<04:12,  3.36s/it]"
     ]
    },
    {
     "name": "stdout",
     "output_type": "stream",
     "text": [
      "    Epoch 5/80 [3.38s] - Train Loss: 0.92898, Train Acc: 0.51069\n"
     ]
    },
    {
     "name": "stderr",
     "output_type": "stream",
     "text": [
      "  8%|▊         | 6/80 [00:20<04:08,  3.36s/it]"
     ]
    },
    {
     "name": "stdout",
     "output_type": "stream",
     "text": [
      "    Epoch 6/80 [3.34s] - Train Loss: 0.90260, Train Acc: 0.54218\n"
     ]
    },
    {
     "name": "stderr",
     "output_type": "stream",
     "text": [
      "  9%|▉         | 7/80 [00:24<04:21,  3.59s/it]"
     ]
    },
    {
     "name": "stdout",
     "output_type": "stream",
     "text": [
      "    Epoch 7/80 [4.07s] - Train Loss: 0.91794, Train Acc: 0.47357\n"
     ]
    },
    {
     "name": "stderr",
     "output_type": "stream",
     "text": [
      " 10%|█         | 8/80 [00:27<04:12,  3.51s/it]"
     ]
    },
    {
     "name": "stdout",
     "output_type": "stream",
     "text": [
      "    Epoch 8/80 [3.35s] - Train Loss: 0.90198, Train Acc: 0.52868\n"
     ]
    },
    {
     "name": "stderr",
     "output_type": "stream",
     "text": [
      " 11%|█▏        | 9/80 [00:31<04:06,  3.47s/it]"
     ]
    },
    {
     "name": "stdout",
     "output_type": "stream",
     "text": [
      "    Epoch 9/80 [3.36s] - Train Loss: 0.90359, Train Acc: 0.50394\n"
     ]
    },
    {
     "name": "stderr",
     "output_type": "stream",
     "text": [
      " 12%|█▎        | 10/80 [00:34<04:00,  3.44s/it]"
     ]
    },
    {
     "name": "stdout",
     "output_type": "stream",
     "text": [
      "    Epoch 10/80 [3.38s] - Train Loss: 0.90534, Train Acc: 0.52306\n"
     ]
    },
    {
     "name": "stderr",
     "output_type": "stream",
     "text": [
      " 14%|█▍        | 11/80 [00:37<03:55,  3.41s/it]"
     ]
    },
    {
     "name": "stdout",
     "output_type": "stream",
     "text": [
      "    Epoch 11/80 [3.35s] - Train Loss: 0.90404, Train Acc: 0.48819\n"
     ]
    },
    {
     "name": "stderr",
     "output_type": "stream",
     "text": [
      " 15%|█▌        | 12/80 [00:41<03:49,  3.38s/it]"
     ]
    },
    {
     "name": "stdout",
     "output_type": "stream",
     "text": [
      "    Epoch 12/80 [3.29s] - Train Loss: 0.91664, Train Acc: 0.55906\n"
     ]
    },
    {
     "name": "stderr",
     "output_type": "stream",
     "text": [
      " 16%|█▋        | 13/80 [00:44<03:45,  3.36s/it]"
     ]
    },
    {
     "name": "stdout",
     "output_type": "stream",
     "text": [
      "    Epoch 13/80 [3.32s] - Train Loss: 0.90206, Train Acc: 0.46907\n"
     ]
    },
    {
     "name": "stderr",
     "output_type": "stream",
     "text": [
      " 18%|█▊        | 14/80 [00:47<03:41,  3.36s/it]"
     ]
    },
    {
     "name": "stdout",
     "output_type": "stream",
     "text": [
      "    Epoch 14/80 [3.35s] - Train Loss: 0.89782, Train Acc: 0.49606\n"
     ]
    },
    {
     "name": "stderr",
     "output_type": "stream",
     "text": [
      " 19%|█▉        | 15/80 [00:51<03:37,  3.35s/it]"
     ]
    },
    {
     "name": "stdout",
     "output_type": "stream",
     "text": [
      "    Epoch 15/80 [3.33s] - Train Loss: 0.89857, Train Acc: 0.56805\n"
     ]
    },
    {
     "name": "stderr",
     "output_type": "stream",
     "text": [
      " 20%|██        | 16/80 [00:55<03:51,  3.61s/it]"
     ]
    },
    {
     "name": "stdout",
     "output_type": "stream",
     "text": [
      "    Epoch 16/80 [4.23s] - Train Loss: 0.89043, Train Acc: 0.52306\n"
     ]
    },
    {
     "name": "stderr",
     "output_type": "stream",
     "text": [
      " 21%|██▏       | 17/80 [00:58<03:47,  3.62s/it]"
     ]
    },
    {
     "name": "stdout",
     "output_type": "stream",
     "text": [
      "    Epoch 17/80 [3.61s] - Train Loss: 0.89019, Train Acc: 0.53768\n"
     ]
    },
    {
     "name": "stderr",
     "output_type": "stream",
     "text": [
      " 22%|██▎       | 18/80 [01:02<03:39,  3.55s/it]"
     ]
    },
    {
     "name": "stdout",
     "output_type": "stream",
     "text": [
      "    Epoch 18/80 [3.38s] - Train Loss: 0.89321, Train Acc: 0.54556\n"
     ]
    },
    {
     "name": "stderr",
     "output_type": "stream",
     "text": [
      " 24%|██▍       | 19/80 [01:05<03:32,  3.48s/it]"
     ]
    },
    {
     "name": "stdout",
     "output_type": "stream",
     "text": [
      "    Epoch 19/80 [3.33s] - Train Loss: 0.89138, Train Acc: 0.53768\n"
     ]
    },
    {
     "name": "stderr",
     "output_type": "stream",
     "text": [
      " 25%|██▌       | 20/80 [01:08<03:24,  3.41s/it]"
     ]
    },
    {
     "name": "stdout",
     "output_type": "stream",
     "text": [
      "    Epoch 20/80 [3.24s] - Train Loss: 0.89515, Train Acc: 0.53768\n"
     ]
    },
    {
     "name": "stderr",
     "output_type": "stream",
     "text": [
      " 26%|██▋       | 21/80 [01:12<03:20,  3.40s/it]"
     ]
    },
    {
     "name": "stdout",
     "output_type": "stream",
     "text": [
      "    Epoch 21/80 [3.39s] - Train Loss: 0.88885, Train Acc: 0.52193\n"
     ]
    },
    {
     "name": "stderr",
     "output_type": "stream",
     "text": [
      " 28%|██▊       | 22/80 [01:15<03:16,  3.38s/it]"
     ]
    },
    {
     "name": "stdout",
     "output_type": "stream",
     "text": [
      "    Epoch 22/80 [3.34s] - Train Loss: 0.85908, Train Acc: 0.61080\n"
     ]
    },
    {
     "name": "stderr",
     "output_type": "stream",
     "text": [
      " 29%|██▉       | 23/80 [01:18<03:12,  3.38s/it]"
     ]
    },
    {
     "name": "stdout",
     "output_type": "stream",
     "text": [
      "    Epoch 23/80 [3.37s] - Train Loss: 0.88579, Train Acc: 0.54893\n"
     ]
    },
    {
     "name": "stderr",
     "output_type": "stream",
     "text": [
      " 30%|███       | 24/80 [01:22<03:11,  3.41s/it]"
     ]
    },
    {
     "name": "stdout",
     "output_type": "stream",
     "text": [
      "    Epoch 24/80 [3.49s] - Train Loss: 0.84745, Train Acc: 0.59280\n"
     ]
    },
    {
     "name": "stderr",
     "output_type": "stream",
     "text": [
      " 31%|███▏      | 25/80 [01:25<03:07,  3.40s/it]"
     ]
    },
    {
     "name": "stdout",
     "output_type": "stream",
     "text": [
      "    Epoch 25/80 [3.37s] - Train Loss: 0.86604, Train Acc: 0.58155\n"
     ]
    },
    {
     "name": "stderr",
     "output_type": "stream",
     "text": [
      " 32%|███▎      | 26/80 [01:30<03:16,  3.65s/it]"
     ]
    },
    {
     "name": "stdout",
     "output_type": "stream",
     "text": [
      "    Epoch 26/80 [4.22s] - Train Loss: 0.79449, Train Acc: 0.67154\n"
     ]
    },
    {
     "name": "stderr",
     "output_type": "stream",
     "text": [
      " 34%|███▍      | 27/80 [01:33<03:09,  3.58s/it]"
     ]
    },
    {
     "name": "stdout",
     "output_type": "stream",
     "text": [
      "    Epoch 27/80 [3.41s] - Train Loss: 0.75778, Train Acc: 0.66479\n"
     ]
    },
    {
     "name": "stderr",
     "output_type": "stream",
     "text": [
      " 35%|███▌      | 28/80 [01:36<03:02,  3.51s/it]"
     ]
    },
    {
     "name": "stdout",
     "output_type": "stream",
     "text": [
      "    Epoch 28/80 [3.37s] - Train Loss: 0.66129, Train Acc: 0.75928\n"
     ]
    },
    {
     "name": "stderr",
     "output_type": "stream",
     "text": [
      " 36%|███▋      | 29/80 [01:40<02:57,  3.49s/it]"
     ]
    },
    {
     "name": "stdout",
     "output_type": "stream",
     "text": [
      "    Epoch 29/80 [3.42s] - Train Loss: 0.68912, Train Acc: 0.73341\n"
     ]
    },
    {
     "name": "stderr",
     "output_type": "stream",
     "text": [
      " 38%|███▊      | 30/80 [01:43<02:52,  3.45s/it]"
     ]
    },
    {
     "name": "stdout",
     "output_type": "stream",
     "text": [
      "    Epoch 30/80 [3.36s] - Train Loss: 0.57792, Train Acc: 0.78628\n"
     ]
    },
    {
     "name": "stderr",
     "output_type": "stream",
     "text": [
      " 39%|███▉      | 31/80 [01:46<02:46,  3.41s/it]"
     ]
    },
    {
     "name": "stdout",
     "output_type": "stream",
     "text": [
      "    Epoch 31/80 [3.31s] - Train Loss: 0.47599, Train Acc: 0.83915\n"
     ]
    },
    {
     "name": "stderr",
     "output_type": "stream",
     "text": [
      " 40%|████      | 32/80 [01:50<02:40,  3.34s/it]"
     ]
    },
    {
     "name": "stdout",
     "output_type": "stream",
     "text": [
      "    Epoch 32/80 [3.20s] - Train Loss: 0.62929, Train Acc: 0.78740\n"
     ]
    },
    {
     "name": "stderr",
     "output_type": "stream",
     "text": [
      " 41%|████▏     | 33/80 [01:53<02:36,  3.32s/it]"
     ]
    },
    {
     "name": "stdout",
     "output_type": "stream",
     "text": [
      "    Epoch 33/80 [3.27s] - Train Loss: 0.52547, Train Acc: 0.80877\n"
     ]
    },
    {
     "name": "stderr",
     "output_type": "stream",
     "text": [
      " 42%|████▎     | 34/80 [01:56<02:31,  3.30s/it]"
     ]
    },
    {
     "name": "stdout",
     "output_type": "stream",
     "text": [
      "    Epoch 34/80 [3.26s] - Train Loss: 0.47688, Train Acc: 0.84364\n"
     ]
    },
    {
     "name": "stderr",
     "output_type": "stream",
     "text": [
      " 44%|████▍     | 35/80 [02:00<02:38,  3.52s/it]"
     ]
    },
    {
     "name": "stdout",
     "output_type": "stream",
     "text": [
      "    Epoch 35/80 [4.04s] - Train Loss: 0.44989, Train Acc: 0.84139\n"
     ]
    },
    {
     "name": "stderr",
     "output_type": "stream",
     "text": [
      " 45%|████▌     | 36/80 [02:04<02:34,  3.50s/it]"
     ]
    },
    {
     "name": "stdout",
     "output_type": "stream",
     "text": [
      "    Epoch 36/80 [3.45s] - Train Loss: 0.44196, Train Acc: 0.85039\n"
     ]
    },
    {
     "name": "stderr",
     "output_type": "stream",
     "text": [
      " 46%|████▋     | 37/80 [02:07<02:29,  3.48s/it]"
     ]
    },
    {
     "name": "stdout",
     "output_type": "stream",
     "text": [
      "    Epoch 37/80 [3.44s] - Train Loss: 0.42099, Train Acc: 0.85602\n"
     ]
    },
    {
     "name": "stderr",
     "output_type": "stream",
     "text": [
      " 48%|████▊     | 38/80 [02:10<02:23,  3.41s/it]"
     ]
    },
    {
     "name": "stdout",
     "output_type": "stream",
     "text": [
      "    Epoch 38/80 [3.25s] - Train Loss: 0.37295, Train Acc: 0.87402\n"
     ]
    },
    {
     "name": "stderr",
     "output_type": "stream",
     "text": [
      " 49%|████▉     | 39/80 [02:14<02:17,  3.34s/it]"
     ]
    },
    {
     "name": "stdout",
     "output_type": "stream",
     "text": [
      "    Epoch 39/80 [3.18s] - Train Loss: 0.36226, Train Acc: 0.87852\n"
     ]
    },
    {
     "name": "stderr",
     "output_type": "stream",
     "text": [
      " 50%|█████     | 40/80 [02:17<02:13,  3.35s/it]"
     ]
    },
    {
     "name": "stdout",
     "output_type": "stream",
     "text": [
      "    Epoch 40/80 [3.36s] - Train Loss: 0.37274, Train Acc: 0.87514\n"
     ]
    },
    {
     "name": "stderr",
     "output_type": "stream",
     "text": [
      " 51%|█████▏    | 41/80 [02:20<02:10,  3.36s/it]"
     ]
    },
    {
     "name": "stdout",
     "output_type": "stream",
     "text": [
      "    Epoch 41/80 [3.37s] - Train Loss: 0.43463, Train Acc: 0.83690\n"
     ]
    },
    {
     "name": "stderr",
     "output_type": "stream",
     "text": [
      " 52%|█████▎    | 42/80 [02:24<02:07,  3.36s/it]"
     ]
    },
    {
     "name": "stdout",
     "output_type": "stream",
     "text": [
      "    Epoch 42/80 [3.37s] - Train Loss: 0.35146, Train Acc: 0.88076\n"
     ]
    },
    {
     "name": "stderr",
     "output_type": "stream",
     "text": [
      " 54%|█████▍    | 43/80 [02:27<02:04,  3.35s/it]"
     ]
    },
    {
     "name": "stdout",
     "output_type": "stream",
     "text": [
      "    Epoch 43/80 [3.34s] - Train Loss: 0.33908, Train Acc: 0.88639\n"
     ]
    },
    {
     "name": "stderr",
     "output_type": "stream",
     "text": [
      " 55%|█████▌    | 44/80 [02:30<02:00,  3.34s/it]"
     ]
    },
    {
     "name": "stdout",
     "output_type": "stream",
     "text": [
      "    Epoch 44/80 [3.31s] - Train Loss: 0.31451, Train Acc: 0.89876\n"
     ]
    },
    {
     "name": "stderr",
     "output_type": "stream",
     "text": [
      " 56%|█████▋    | 45/80 [02:34<02:06,  3.60s/it]"
     ]
    },
    {
     "name": "stdout",
     "output_type": "stream",
     "text": [
      "    Epoch 45/80 [4.22s] - Train Loss: 0.31797, Train Acc: 0.90326\n"
     ]
    },
    {
     "name": "stderr",
     "output_type": "stream",
     "text": [
      " 57%|█████▊    | 46/80 [02:38<02:00,  3.55s/it]"
     ]
    },
    {
     "name": "stdout",
     "output_type": "stream",
     "text": [
      "    Epoch 46/80 [3.43s] - Train Loss: 0.31595, Train Acc: 0.89876\n"
     ]
    },
    {
     "name": "stderr",
     "output_type": "stream",
     "text": [
      " 59%|█████▉    | 47/80 [02:41<01:56,  3.53s/it]"
     ]
    },
    {
     "name": "stdout",
     "output_type": "stream",
     "text": [
      "    Epoch 47/80 [3.46s] - Train Loss: 0.30618, Train Acc: 0.90101\n"
     ]
    },
    {
     "name": "stderr",
     "output_type": "stream",
     "text": [
      " 60%|██████    | 48/80 [02:45<01:51,  3.48s/it]"
     ]
    },
    {
     "name": "stdout",
     "output_type": "stream",
     "text": [
      "    Epoch 48/80 [3.37s] - Train Loss: 0.30455, Train Acc: 0.90776\n"
     ]
    },
    {
     "name": "stderr",
     "output_type": "stream",
     "text": [
      " 61%|██████▏   | 49/80 [02:48<01:46,  3.44s/it]"
     ]
    },
    {
     "name": "stdout",
     "output_type": "stream",
     "text": [
      "    Epoch 49/80 [3.36s] - Train Loss: 0.31802, Train Acc: 0.90326\n"
     ]
    },
    {
     "name": "stderr",
     "output_type": "stream",
     "text": [
      " 62%|██████▎   | 50/80 [02:51<01:42,  3.40s/it]"
     ]
    },
    {
     "name": "stdout",
     "output_type": "stream",
     "text": [
      "    Epoch 50/80 [3.31s] - Train Loss: 0.23699, Train Acc: 0.93026\n"
     ]
    },
    {
     "name": "stderr",
     "output_type": "stream",
     "text": [
      " 64%|██████▍   | 51/80 [02:55<01:37,  3.37s/it]"
     ]
    },
    {
     "name": "stdout",
     "output_type": "stream",
     "text": [
      "    Epoch 51/80 [3.30s] - Train Loss: 0.29073, Train Acc: 0.89876\n"
     ]
    },
    {
     "name": "stderr",
     "output_type": "stream",
     "text": [
      " 65%|██████▌   | 52/80 [02:58<01:34,  3.37s/it]"
     ]
    },
    {
     "name": "stdout",
     "output_type": "stream",
     "text": [
      "    Epoch 52/80 [3.38s] - Train Loss: 0.22723, Train Acc: 0.92238\n"
     ]
    },
    {
     "name": "stderr",
     "output_type": "stream",
     "text": [
      " 66%|██████▋   | 53/80 [03:01<01:31,  3.38s/it]"
     ]
    },
    {
     "name": "stdout",
     "output_type": "stream",
     "text": [
      "    Epoch 53/80 [3.39s] - Train Loss: 0.26240, Train Acc: 0.92351\n"
     ]
    },
    {
     "name": "stderr",
     "output_type": "stream",
     "text": [
      " 68%|██████▊   | 54/80 [03:05<01:28,  3.40s/it]"
     ]
    },
    {
     "name": "stdout",
     "output_type": "stream",
     "text": [
      "    Epoch 54/80 [3.45s] - Train Loss: 0.28651, Train Acc: 0.91789\n"
     ]
    },
    {
     "name": "stderr",
     "output_type": "stream",
     "text": [
      " 69%|██████▉   | 55/80 [03:09<01:31,  3.65s/it]"
     ]
    },
    {
     "name": "stdout",
     "output_type": "stream",
     "text": [
      "    Epoch 55/80 [4.21s] - Train Loss: 0.24683, Train Acc: 0.92801\n"
     ]
    },
    {
     "name": "stderr",
     "output_type": "stream",
     "text": [
      " 70%|███████   | 56/80 [03:13<01:26,  3.60s/it]"
     ]
    },
    {
     "name": "stdout",
     "output_type": "stream",
     "text": [
      "    Epoch 56/80 [3.50s] - Train Loss: 0.25664, Train Acc: 0.92126\n"
     ]
    },
    {
     "name": "stderr",
     "output_type": "stream",
     "text": [
      " 71%|███████▏  | 57/80 [03:16<01:20,  3.51s/it]"
     ]
    },
    {
     "name": "stdout",
     "output_type": "stream",
     "text": [
      "    Epoch 57/80 [3.28s] - Train Loss: 0.21737, Train Acc: 0.93363\n"
     ]
    },
    {
     "name": "stderr",
     "output_type": "stream",
     "text": [
      " 72%|███████▎  | 58/80 [03:19<01:15,  3.43s/it]"
     ]
    },
    {
     "name": "stdout",
     "output_type": "stream",
     "text": [
      "    Epoch 58/80 [3.26s] - Train Loss: 0.24031, Train Acc: 0.93363\n"
     ]
    },
    {
     "name": "stderr",
     "output_type": "stream",
     "text": [
      " 74%|███████▍  | 59/80 [03:23<01:11,  3.42s/it]"
     ]
    },
    {
     "name": "stdout",
     "output_type": "stream",
     "text": [
      "    Epoch 59/80 [3.41s] - Train Loss: 0.20639, Train Acc: 0.94038\n"
     ]
    },
    {
     "name": "stderr",
     "output_type": "stream",
     "text": [
      " 75%|███████▌  | 60/80 [03:26<01:08,  3.40s/it]"
     ]
    },
    {
     "name": "stdout",
     "output_type": "stream",
     "text": [
      "    Epoch 60/80 [3.35s] - Train Loss: 0.22318, Train Acc: 0.93363\n"
     ]
    },
    {
     "name": "stderr",
     "output_type": "stream",
     "text": [
      " 76%|███████▋  | 61/80 [03:29<01:04,  3.39s/it]"
     ]
    },
    {
     "name": "stdout",
     "output_type": "stream",
     "text": [
      "    Epoch 61/80 [3.36s] - Train Loss: 0.19565, Train Acc: 0.93813\n"
     ]
    },
    {
     "name": "stderr",
     "output_type": "stream",
     "text": [
      " 78%|███████▊  | 62/80 [03:33<01:01,  3.40s/it]"
     ]
    },
    {
     "name": "stdout",
     "output_type": "stream",
     "text": [
      "    Epoch 62/80 [3.42s] - Train Loss: 0.20883, Train Acc: 0.94488\n"
     ]
    },
    {
     "name": "stderr",
     "output_type": "stream",
     "text": [
      " 79%|███████▉  | 63/80 [03:36<00:58,  3.45s/it]"
     ]
    },
    {
     "name": "stdout",
     "output_type": "stream",
     "text": [
      "    Epoch 63/80 [3.58s] - Train Loss: 0.20404, Train Acc: 0.93251\n"
     ]
    },
    {
     "name": "stderr",
     "output_type": "stream",
     "text": [
      " 80%|████████  | 64/80 [03:41<01:01,  3.83s/it]"
     ]
    },
    {
     "name": "stdout",
     "output_type": "stream",
     "text": [
      "    Epoch 64/80 [4.72s] - Train Loss: 0.19531, Train Acc: 0.93701\n"
     ]
    },
    {
     "name": "stderr",
     "output_type": "stream",
     "text": [
      " 81%|████████▏ | 65/80 [03:44<00:55,  3.72s/it]"
     ]
    },
    {
     "name": "stdout",
     "output_type": "stream",
     "text": [
      "    Epoch 65/80 [3.46s] - Train Loss: 0.22677, Train Acc: 0.93251\n"
     ]
    },
    {
     "name": "stderr",
     "output_type": "stream",
     "text": [
      " 82%|████████▎ | 66/80 [03:48<00:50,  3.62s/it]"
     ]
    },
    {
     "name": "stdout",
     "output_type": "stream",
     "text": [
      "    Epoch 66/80 [3.39s] - Train Loss: 0.16441, Train Acc: 0.94938\n"
     ]
    },
    {
     "name": "stderr",
     "output_type": "stream",
     "text": [
      " 84%|████████▍ | 67/80 [03:51<00:45,  3.53s/it]"
     ]
    },
    {
     "name": "stdout",
     "output_type": "stream",
     "text": [
      "    Epoch 67/80 [3.32s] - Train Loss: 0.19039, Train Acc: 0.94488\n"
     ]
    },
    {
     "name": "stderr",
     "output_type": "stream",
     "text": [
      " 85%|████████▌ | 68/80 [03:54<00:41,  3.44s/it]"
     ]
    },
    {
     "name": "stdout",
     "output_type": "stream",
     "text": [
      "    Epoch 68/80 [3.23s] - Train Loss: 0.16053, Train Acc: 0.95388\n"
     ]
    },
    {
     "name": "stderr",
     "output_type": "stream",
     "text": [
      " 86%|████████▋ | 69/80 [03:58<00:37,  3.38s/it]"
     ]
    },
    {
     "name": "stdout",
     "output_type": "stream",
     "text": [
      "    Epoch 69/80 [3.24s] - Train Loss: 0.21037, Train Acc: 0.93363\n"
     ]
    },
    {
     "name": "stderr",
     "output_type": "stream",
     "text": [
      " 88%|████████▊ | 70/80 [04:01<00:33,  3.34s/it]"
     ]
    },
    {
     "name": "stdout",
     "output_type": "stream",
     "text": [
      "    Epoch 70/80 [3.25s] - Train Loss: 0.14850, Train Acc: 0.95951\n"
     ]
    },
    {
     "name": "stderr",
     "output_type": "stream",
     "text": [
      " 89%|████████▉ | 71/80 [04:04<00:30,  3.36s/it]"
     ]
    },
    {
     "name": "stdout",
     "output_type": "stream",
     "text": [
      "    Epoch 71/80 [3.40s] - Train Loss: 0.16413, Train Acc: 0.95276\n"
     ]
    },
    {
     "name": "stderr",
     "output_type": "stream",
     "text": [
      " 90%|█████████ | 72/80 [04:08<00:26,  3.37s/it]"
     ]
    },
    {
     "name": "stdout",
     "output_type": "stream",
     "text": [
      "    Epoch 72/80 [3.38s] - Train Loss: 0.18616, Train Acc: 0.94038\n"
     ]
    },
    {
     "name": "stderr",
     "output_type": "stream",
     "text": [
      " 91%|█████████▏| 73/80 [04:11<00:23,  3.41s/it]"
     ]
    },
    {
     "name": "stdout",
     "output_type": "stream",
     "text": [
      "    Epoch 73/80 [3.50s] - Train Loss: 0.13737, Train Acc: 0.96625\n"
     ]
    },
    {
     "name": "stderr",
     "output_type": "stream",
     "text": [
      " 92%|█████████▎| 74/80 [04:15<00:21,  3.66s/it]"
     ]
    },
    {
     "name": "stdout",
     "output_type": "stream",
     "text": [
      "    Epoch 74/80 [4.24s] - Train Loss: 0.17814, Train Acc: 0.95276\n"
     ]
    },
    {
     "name": "stderr",
     "output_type": "stream",
     "text": [
      " 94%|█████████▍| 75/80 [04:19<00:17,  3.56s/it]"
     ]
    },
    {
     "name": "stdout",
     "output_type": "stream",
     "text": [
      "    Epoch 75/80 [3.32s] - Train Loss: 0.13059, Train Acc: 0.95838\n"
     ]
    },
    {
     "name": "stderr",
     "output_type": "stream",
     "text": [
      " 95%|█████████▌| 76/80 [04:22<00:13,  3.49s/it]"
     ]
    },
    {
     "name": "stdout",
     "output_type": "stream",
     "text": [
      "    Epoch 76/80 [3.32s] - Train Loss: 0.12919, Train Acc: 0.96400\n"
     ]
    },
    {
     "name": "stderr",
     "output_type": "stream",
     "text": [
      " 96%|█████████▋| 77/80 [04:26<00:10,  3.46s/it]"
     ]
    },
    {
     "name": "stdout",
     "output_type": "stream",
     "text": [
      "    Epoch 77/80 [3.40s] - Train Loss: 0.13757, Train Acc: 0.95838\n"
     ]
    },
    {
     "name": "stderr",
     "output_type": "stream",
     "text": [
      " 98%|█████████▊| 78/80 [04:29<00:06,  3.43s/it]"
     ]
    },
    {
     "name": "stdout",
     "output_type": "stream",
     "text": [
      "    Epoch 78/80 [3.37s] - Train Loss: 0.18266, Train Acc: 0.94376\n"
     ]
    },
    {
     "name": "stderr",
     "output_type": "stream",
     "text": [
      " 99%|█████████▉| 79/80 [04:32<00:03,  3.42s/it]"
     ]
    },
    {
     "name": "stdout",
     "output_type": "stream",
     "text": [
      "    Epoch 79/80 [3.40s] - Train Loss: 0.15956, Train Acc: 0.96288\n"
     ]
    },
    {
     "name": "stderr",
     "output_type": "stream",
     "text": [
      "100%|██████████| 80/80 [04:36<00:00,  3.45s/it]"
     ]
    },
    {
     "name": "stdout",
     "output_type": "stream",
     "text": [
      "    Epoch 80/80 [3.50s] - Train Loss: 0.15701, Train Acc: 0.96288\n",
      "Model saved to: /home/diogommiranda/tese/outputs/best_model.pth\n"
     ]
    },
    {
     "name": "stderr",
     "output_type": "stream",
     "text": [
      "\n"
     ]
    },
    {
     "name": "stdout",
     "output_type": "stream",
     "text": [
      "Test Loss: 1.2123030774733599, Test Acc: 0.7104072398190046\n",
      "\n",
      "--- Evaluation Metrics on Test Set ---\n",
      "Accuracy:    0.7104\n",
      "Sensitivity: 0.6923\n",
      "Specificity: 0.7203 \n",
      "Balanced Accuracy (BACC): 0.7063\n",
      "F1 Score (Weighted):      0.7153\n",
      "Matthews Corr Coef (MCC): 0.3988\n",
      "Area Under the Curve (AUC): 0.7063\n",
      "\n"
     ]
    },
    {
     "data": {
      "image/png": "[encoded data removed]",
      "text/plain": [
       "<Figure size 900x600 with 1 Axes>"
      ]
     },
     "metadata": {},
     "output_type": "display_data"
    },
    {
     "data": {
      "image/png": "[encoded data removed]",
      "text/plain": [
       "<Figure size 900x600 with 1 Axes>"
      ]
     },
     "metadata": {},
     "output_type": "display_data"
    },
    {
     "data": {
      "image/png": "[encoded data removed]",
      "text/plain": [
       "<Figure size 800x800 with 2 Axes>"
      ]
     },
     "metadata": {},
     "output_type": "display_data"
    }
   ],
   "source": [
    "# --- Train the model with the best hyperparameters and evaluate it on the test set ---\n",
    "\n",
    "# Hyperparameters\n",
    "BEST_LR = 2e-5 # Learning rate\n",
    "BEST_WD= 4e-2 # Weight decay\n",
    "BEST_NUM_EPOCHS = 80 # Number of epochs for training\n",
    "\n",
    "train_for_more_epochs = False \n",
    "loading = False\n",
    "\n",
    "# Filepath to save/load the model\n",
    "SAVED_MODEL_FILEPATH = \"/home/diogommiranda/tese/outputs/best_model.pth\"\n",
    "\n",
    "# Create the model\n",
    "resnet_feature_extractor = ResnetFeatureExtractor(resnet_config=resnet_config, device=device)\n",
    "model = ResNetViT(resnet_feature_extractor, vit_config).to(device)\n",
    "\n",
    "# Load saved model or train anew\n",
    "if train_for_more_epochs:\n",
    "    model.load_state_dict(torch.load(SAVED_MODEL_FILEPATH, weights_only=True, map_location=device)) # load model to continue training for more epochs\n",
    "    print(f\"\\nLoading model weights to continue training for more epochs.\")\n",
    "else:\n",
    "    print(f\"\\nTraining the model from scratch with the best hyperparameters.\")\n",
    "\n",
    "# Compute class weights\n",
    "unique_classes, class_counts = np.unique(train_labels, return_counts=True)\n",
    "print(f\"  Train label counts: {dict(zip(unique_classes, class_counts))}\")\n",
    "pos_weight_val = class_counts[0] / class_counts[1]\n",
    "pos_weight_val = torch.tensor([pos_weight_val], device=device)\n",
    "print(f\"  Calculated pos_weight for BCEWithLogitsLoss: {pos_weight_val.item():.4f}\")\n",
    "\n",
    "criterion = nn.BCEWithLogitsLoss(pos_weight=pos_weight_val).to(device)\n",
    "\n",
    "optimizer = torch.optim.Adam(filter(lambda p: p.requires_grad, model.parameters()), lr=current_lr, weight_decay=current_wd)\n",
    "\n",
    "\n",
    "optimizer_name = optimizer.__class__.__name__\n",
    "\n",
    "history = {'epoch': [], 'train_loss': [], 'train_accuracy': [], 'train_auc': []}\n",
    "\n",
    "for epoch in tqdm(range(BEST_NUM_EPOCHS)):\n",
    "    epoch_start_time = time.time()\n",
    "    history['epoch'].append(epoch + 1)\n",
    "\n",
    "    model.train()\n",
    "    \n",
    "    # Freeze BatchNorm layers if using pretrained model\n",
    "    \n",
    "    running_loss = 0.0\n",
    "    train_pred_probs = []\n",
    "    train_targets = []\n",
    "\n",
    "    for i, (inputs, labels) in enumerate(train_data):\n",
    "        inputs = inputs.to(device)\n",
    "        labels = labels.float().unsqueeze(1).to(device)\n",
    "        \n",
    "        optimizer.zero_grad()\n",
    "        \n",
    "        # Mixed precision\n",
    "        with torch.autocast(device_type=device.type, dtype=torch.float16, enabled=USE_AMP):\n",
    "            outputs = model(inputs)\n",
    "            loss = criterion(outputs, labels)\n",
    "\n",
    "        scaler.scale(loss).backward()\n",
    "        scaler.step(optimizer)\n",
    "        scaler.update()\n",
    "\n",
    "        running_loss += loss.item() * inputs.size(0)\n",
    "        \n",
    "        prob_outputs = torch.sigmoid(outputs)\n",
    "        train_pred_probs.extend(prob_outputs.detach().cpu().numpy())\n",
    "        train_targets.extend(labels.detach().cpu().numpy())\n",
    "\n",
    "    train_targets = np.array(train_targets).flatten()\n",
    "    train_pred_probs = np.array(train_pred_probs).flatten()\n",
    "    \n",
    "    # Calculate training metrics for the epoch\n",
    "    train_loss = running_loss / len(train_data.dataset)\n",
    "    train_acc = accuracy_score(train_targets, train_pred_probs >= 0.5)\n",
    "    train_auc = roc_auc_score(train_targets, train_pred_probs)\n",
    "    history['train_loss'].append(train_loss)\n",
    "    history['train_accuracy'].append(train_acc)\n",
    "    history['train_auc'].append(train_auc)\n",
    "        \n",
    "    epoch_duration = time.time() - epoch_start_time\n",
    "    print(f\"    Epoch {epoch+1}/{BEST_NUM_EPOCHS} [{epoch_duration:.2f}s] - Train Loss: {train_loss:.5f}, Train Acc: {train_acc:.5f}\")\n",
    "    \n",
    "\n",
    "# Save the model if using fixed learning rate in case we want to continue training it\n",
    "if not loading:\n",
    "    torch.save(model.state_dict(), SAVED_MODEL_FILEPATH)\n",
    "    print(f\"Model saved to: {SAVED_MODEL_FILEPATH}\")\n",
    "\n",
    "plot_loss_curves(history)\n",
    "\n",
    "# Evaluate the model on the test data\n",
    "model.eval()\n",
    "test_running_loss = 0.0\n",
    "test_pred_probs = []\n",
    "test_targets = []\n",
    "\n",
    "with torch.inference_mode():\n",
    "    for inputs, labels in test_data:\n",
    "        inputs = inputs.to(device)\n",
    "        labels = labels.float().unsqueeze(1).to(device)\n",
    "\n",
    "        # Mixed precision\n",
    "        with torch.autocast(device_type=device.type, dtype=torch.float16, enabled=USE_AMP):\n",
    "            outputs = model(inputs)\n",
    "            loss = criterion(outputs, labels)\n",
    "\n",
    "        test_running_loss += loss.item() * inputs.size(0)\n",
    "    \n",
    "        prob_outputs = torch.sigmoid(outputs)\n",
    "        \n",
    "        test_pred_probs.extend(prob_outputs.cpu().numpy())\n",
    "        test_targets.extend(labels.cpu().numpy())\n",
    "\n",
    "test_targets = np.array(test_targets).flatten()\n",
    "test_pred_probs = np.array(test_pred_probs).flatten()\n",
    "\n",
    "# Calculate test loss and accuracy\n",
    "test_loss = test_running_loss / len(test_data.dataset)\n",
    "test_acc = accuracy_score(test_targets, test_pred_probs >= 0.5)\n",
    "print(f\"Test Loss: {test_loss}, Test Acc: {test_acc}\")\n",
    "\n",
    "y_true = test_targets.astype(int)\n",
    "y_pred = test_pred_probs.round().astype(int)\n",
    "\n",
    "# Calculate metrics\n",
    "accuracy = test_acc\n",
    "sensitivity = recall_score(y_true, y_pred, pos_label=1)\n",
    "specificity = recall_score(y_true, y_pred, pos_label=0)\n",
    "bacc = balanced_accuracy_score(y_true, y_pred)\n",
    "f1 = f1_score(y_true, y_pred, average='weighted')\n",
    "mcc = matthews_corrcoef(y_true, y_pred)\n",
    "auc_score = roc_auc_score(y_true, y_pred)\n",
    "\n",
    "print(\"\\n--- Evaluation Metrics on Test Set ---\")\n",
    "print(f\"Accuracy:    {accuracy:.4f}\")\n",
    "print(f\"Sensitivity: {sensitivity:.4f}\")\n",
    "print(f\"Specificity: {specificity:.4f} \")\n",
    "print(f\"Balanced Accuracy (BACC): {bacc:.4f}\")\n",
    "print(f\"F1 Score (Weighted):      {f1:.4f}\") \n",
    "print(f\"Matthews Corr Coef (MCC): {mcc:.4f}\")\n",
    "print(f\"Area Under the Curve (AUC): {auc_score:.4f}\\n\")\n",
    "\n",
    "class0, class1 = DATASET.split(\"_\")\n",
    "target_names = [class0, class1]\n",
    "\n",
    "make_confusion_matrix(y_true, y_pred, target_names, figsize=(8, 8), text_size=15)\n"
   ]
  },
  {
   "cell_type": "markdown",
   "id": "9db7573d",
   "metadata": {},
   "source": [
    "# Save the model"
   ]
  },
  {
   "cell_type": "code",
   "execution_count": null,
   "id": "94fb8c05",
   "metadata": {},
   "outputs": [
    {
     "name": "stdout",
     "output_type": "stream",
     "text": [
      "Saving model to: /home/diogommiranda/tese/outputs/resnetvit/nc_ad/pretrain/fixed_lr/4B/saved_models/LR=3.0e-06_WD=2e-04\n"
     ]
    }
   ],
   "source": [
    "save_option = False # Set to True to save the model, confusion matrix, and evaluation metrics\n",
    "\n",
    "if save_option:\n",
    "    save_model_dir = \"/home/diogommiranda/tese/outputs/resnetvit/\" + DATASET + \"/\" + str(BATCH_SIZE) + \"B/\" + \"saved_models/\" + f\"LR={BEST_LR:.1e}_WD={BEST_WD:.0e}\"\n",
    "    print(f\"Saving model to: {save_model_dir}\")\n",
    "    os.makedirs(save_model_dir, exist_ok=True)\n",
    "\n",
    "    # Save the model\n",
    "    torch.save(model.state_dict(), os.path.join(save_model_dir, \"model.pth\"))\n",
    "\n",
    "    # Save the confusion matrix plot\n",
    "    make_confusion_matrix(y_true=y_true,\n",
    "                        y_pred=y_pred.round(),\n",
    "                        classes=target_names,\n",
    "                        figsize=(8, 8),\n",
    "                        text_size=15,\n",
    "                        save_dir=save_model_dir)\n",
    "\n",
    "    # Save the test loss and accuracy and the evaluation metrics\n",
    "    result_file_path = os.path.join(save_model_dir, \"resultados.txt\")\n",
    "    with open(result_file_path, \"w\") as f:\n",
    "        f.write(f\"[{test_loss}, {test_acc}]\\n\\n\")\n",
    "        f.write(\"--- Evaluation Metrics on Test Set ---\\n\")\n",
    "        f.write(f\"Accuracy:    {accuracy:.4f}\\n\")\n",
    "        f.write(f\"Sensitivity: {sensitivity:.4f}\\n\")\n",
    "        f.write(f\"Specificity: {specificity:.4f}\\n\")\n",
    "        f.write(f\"Balanced Accuracy (BACC): {bacc:.4f}\\n\")\n",
    "        f.write(f\"F1 Score (Weighted):      {f1:.4f}\\n\")\n",
    "        f.write(f\"Matthews Corr Coef (MCC): {mcc:.4f}\\n\")\n",
    "        f.write(f\"Area Under the Curve (AUC): {auc_score:.4f}\\n\")\n",
    "        \n",
    "        training_config = {\n",
    "            \"vit_config\": vit_config,\n",
    "            \"num_epochs\": BEST_NUM_EPOCHS,\n",
    "            \"optimizer\": optimizer_name,\n",
    "            \"optimizer_params\": {\n",
    "                \"lr\": float(BEST_LR),\n",
    "                \"weight_decay\": float(BEST_WD)\n",
    "            },\n",
    "            \"batch_size\": BATCH_SIZE,\n",
    "            \"seed\": seed,\n",
    "            \"dataset\": DATASET\n",
    "        }\n",
    "        params_file_path = os.path.join(save_model_dir, \"training_config.json\")\n",
    "        with open(params_file_path, \"w\") as f:\n",
    "            json.dump(training_config, f, indent=4)"
   ]
  }
 ],
 "metadata": {
  "kernelspec": {
   "display_name": "ml",
   "language": "python",
   "name": "python3"
  },
  "language_info": {
   "codemirror_mode": {
    "name": "ipython",
    "version": 3
   },
   "file_extension": ".py",
   "mimetype": "text/x-python",
   "name": "python",
   "nbconvert_exporter": "python",
   "pygments_lexer": "ipython3",
   "version": "3.10.12"
  }
 },
 "nbformat": 4,
 "nbformat_minor": 5
}
