{
 "cells": [
  {
   "cell_type": "code",
   "execution_count": 16,
   "id": "bbc3a203",
   "metadata": {},
   "outputs": [],
   "source": [
    "import torch\n",
    "import torch.nn.functional as F\n",
    "import numpy as np\n",
    "import pandas as pd\n",
    "import nibabel as nib"
   ]
  },
  {
   "cell_type": "code",
   "execution_count": null,
   "id": "c4fcf70d",
   "metadata": {},
   "outputs": [
    {
     "name": "stdout",
     "output_type": "stream",
     "text": [
      "Calculated Min: 0.0, Max: 1.0\n",
      "Shape after transpose: torch.Size([1, 1, 91, 109, 91])\n"
     ]
    }
   ],
   "source": [
    "mask_path = \"/home/diogommiranda/tese/masks/ROI_MASK.nii\"\n",
    "img = nib.load(mask_path)\n",
    "volume = img.get_fdata(dtype=np.float32)\n",
    "current_min = np.min(volume)\n",
    "current_max = np.max(volume)\n",
    "print(f\"Calculated Min: {current_min}, Max: {current_max}\")\n",
    "volume = np.transpose(volume, (2, 1, 0)) # (D, H, W)\n",
    "volume = np.expand_dims(volume, axis=0) # Add channel dimension\n",
    "volume = np.expand_dims(volume, axis=0) # Add batch dimension\n",
    "volume = torch.from_numpy(volume)\n",
    "print(f\"Shape after transpose: {volume.shape}\")"
   ]
  },
  {
   "cell_type": "code",
   "execution_count": 71,
   "id": "5b571977",
   "metadata": {},
   "outputs": [
    {
     "name": "stdout",
     "output_type": "stream",
     "text": [
      "torch.Size([1, 1, 6, 7, 6])\n",
      "torch.Size([1, 6, 7, 6])\n"
     ]
    }
   ],
   "source": [
    "roi_scores = F.interpolate(\n",
    "    input = volume,\n",
    "    mode = 'area',\n",
    "    size = (6, 7, 6)\n",
    ")\n",
    "print(roi_scores.shape)\n",
    "roi_scores = roi_scores.squeeze(0)\n",
    "print(roi_scores.shape)"
   ]
  },
  {
   "cell_type": "code",
   "execution_count": 72,
   "id": "4331c461",
   "metadata": {},
   "outputs": [
    {
     "name": "stdout",
     "output_type": "stream",
     "text": [
      "ROI Min: 0.0, ROI Max: 0.572021484375\n"
     ]
    }
   ],
   "source": [
    "roi_min = torch.min(roi_scores)\n",
    "roi_max = torch.max(roi_scores)\n",
    "print(f\"ROI Min: {roi_min.item()}, ROI Max: {roi_max.item()}\")"
   ]
  },
  {
   "cell_type": "code",
   "execution_count": 76,
   "id": "20f31385",
   "metadata": {},
   "outputs": [
    {
     "name": "stdout",
     "output_type": "stream",
     "text": [
      "Token ROI Scores Shape: torch.Size([1, 252])\n"
     ]
    }
   ],
   "source": [
    "token_roi_scores = roi_scores.flatten(start_dim=1)\n",
    "print(f\"Token ROI Scores Shape: {token_roi_scores.shape}\")"
   ]
  },
  {
   "cell_type": "code",
   "execution_count": 77,
   "id": "19b42761",
   "metadata": {},
   "outputs": [
    {
     "name": "stdout",
     "output_type": "stream",
     "text": [
      "Token ROI Scores Softmax Shape: torch.Size([1, 252])\n"
     ]
    }
   ],
   "source": [
    "token_roi_scores_softmax = F.softmax(token_roi_scores, dim=1)\n",
    "print(f\"Token ROI Scores Softmax Shape: {token_roi_scores_softmax.shape}\")"
   ]
  },
  {
   "cell_type": "code",
   "execution_count": 79,
   "id": "1d9aec1c",
   "metadata": {},
   "outputs": [
    {
     "name": "stdout",
     "output_type": "stream",
     "text": [
      "Softmax Min: 0.003775653662160039, Softmax Max: 0.006689873989671469\n"
     ]
    }
   ],
   "source": [
    "softmax_min = torch.min(token_roi_scores_softmax)\n",
    "softmax_max = torch.max(token_roi_scores_softmax)\n",
    "print(f\"Softmax Min: {softmax_min}, Softmax Max: {softmax_max}\")"
   ]
  },
  {
   "cell_type": "code",
   "execution_count": null,
   "id": "07a30fc0",
   "metadata": {},
   "outputs": [],
   "source": []
  }
 ],
 "metadata": {
  "kernelspec": {
   "display_name": "ml",
   "language": "python",
   "name": "python3"
  },
  "language_info": {
   "codemirror_mode": {
    "name": "ipython",
    "version": 3
   },
   "file_extension": ".py",
   "mimetype": "text/x-python",
   "name": "python",
   "nbconvert_exporter": "python",
   "pygments_lexer": "ipython3",
   "version": "3.10.12"
  }
 },
 "nbformat": 4,
 "nbformat_minor": 5
}
